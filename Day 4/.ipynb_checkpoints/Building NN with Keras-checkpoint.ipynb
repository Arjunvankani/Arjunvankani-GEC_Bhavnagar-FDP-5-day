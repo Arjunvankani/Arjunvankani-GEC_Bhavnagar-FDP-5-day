{
 "cells": [
  {
   "cell_type": "markdown",
   "metadata": {},
   "source": [
    "Keras is a powerful and easy-to-use free open source Python library for developing and evaluating deep learning models.\n",
    "\n",
    "It wraps the efficient numerical computation libraries Theano and TensorFlow and allows you to define and train neural network models in just a few lines of code"
   ]
  },
  {
   "cell_type": "markdown",
   "metadata": {},
   "source": [
    "#### Step 1. Load Data"
   ]
  },
  {
   "cell_type": "code",
   "execution_count": 1,
   "metadata": {},
   "outputs": [],
   "source": [
    "# first neural network with keras tutorial\n",
    "import pandas as pd\n",
    "from keras.models import Sequential\n",
    "from keras.layers import Dense"
   ]
  },
  {
   "cell_type": "code",
   "execution_count": 2,
   "metadata": {},
   "outputs": [],
   "source": [
    "# load the dataset\n",
    "df = pd.read_csv(\"https://raw.githubusercontent.com/mona-patra/FDP-5days/main/Day%204/diabetes.csv\")"
   ]
  },
  {
   "cell_type": "code",
   "execution_count": 3,
   "metadata": {
    "scrolled": true
   },
   "outputs": [
    {
     "data": {
      "text/html": [
       "<div>\n",
       "<style scoped>\n",
       "    .dataframe tbody tr th:only-of-type {\n",
       "        vertical-align: middle;\n",
       "    }\n",
       "\n",
       "    .dataframe tbody tr th {\n",
       "        vertical-align: top;\n",
       "    }\n",
       "\n",
       "    .dataframe thead th {\n",
       "        text-align: right;\n",
       "    }\n",
       "</style>\n",
       "<table border=\"1\" class=\"dataframe\">\n",
       "  <thead>\n",
       "    <tr style=\"text-align: right;\">\n",
       "      <th></th>\n",
       "      <th>Pregnancies</th>\n",
       "      <th>Glucose</th>\n",
       "      <th>BloodPressure</th>\n",
       "      <th>SkinThickness</th>\n",
       "      <th>Insulin</th>\n",
       "      <th>BMI</th>\n",
       "      <th>DiabetesPedigreeFunction</th>\n",
       "      <th>Age</th>\n",
       "      <th>Outcome</th>\n",
       "    </tr>\n",
       "  </thead>\n",
       "  <tbody>\n",
       "    <tr>\n",
       "      <th>0</th>\n",
       "      <td>6</td>\n",
       "      <td>148</td>\n",
       "      <td>72</td>\n",
       "      <td>35</td>\n",
       "      <td>0</td>\n",
       "      <td>33.6</td>\n",
       "      <td>0.627</td>\n",
       "      <td>50</td>\n",
       "      <td>1</td>\n",
       "    </tr>\n",
       "    <tr>\n",
       "      <th>1</th>\n",
       "      <td>1</td>\n",
       "      <td>85</td>\n",
       "      <td>66</td>\n",
       "      <td>29</td>\n",
       "      <td>0</td>\n",
       "      <td>26.6</td>\n",
       "      <td>0.351</td>\n",
       "      <td>31</td>\n",
       "      <td>0</td>\n",
       "    </tr>\n",
       "    <tr>\n",
       "      <th>2</th>\n",
       "      <td>8</td>\n",
       "      <td>183</td>\n",
       "      <td>64</td>\n",
       "      <td>0</td>\n",
       "      <td>0</td>\n",
       "      <td>23.3</td>\n",
       "      <td>0.672</td>\n",
       "      <td>32</td>\n",
       "      <td>1</td>\n",
       "    </tr>\n",
       "    <tr>\n",
       "      <th>3</th>\n",
       "      <td>1</td>\n",
       "      <td>89</td>\n",
       "      <td>66</td>\n",
       "      <td>23</td>\n",
       "      <td>94</td>\n",
       "      <td>28.1</td>\n",
       "      <td>0.167</td>\n",
       "      <td>21</td>\n",
       "      <td>0</td>\n",
       "    </tr>\n",
       "    <tr>\n",
       "      <th>4</th>\n",
       "      <td>0</td>\n",
       "      <td>137</td>\n",
       "      <td>40</td>\n",
       "      <td>35</td>\n",
       "      <td>168</td>\n",
       "      <td>43.1</td>\n",
       "      <td>2.288</td>\n",
       "      <td>33</td>\n",
       "      <td>1</td>\n",
       "    </tr>\n",
       "  </tbody>\n",
       "</table>\n",
       "</div>"
      ],
      "text/plain": [
       "   Pregnancies  Glucose  BloodPressure  SkinThickness  Insulin   BMI  \\\n",
       "0            6      148             72             35        0  33.6   \n",
       "1            1       85             66             29        0  26.6   \n",
       "2            8      183             64              0        0  23.3   \n",
       "3            1       89             66             23       94  28.1   \n",
       "4            0      137             40             35      168  43.1   \n",
       "\n",
       "   DiabetesPedigreeFunction  Age  Outcome  \n",
       "0                     0.627   50        1  \n",
       "1                     0.351   31        0  \n",
       "2                     0.672   32        1  \n",
       "3                     0.167   21        0  \n",
       "4                     2.288   33        1  "
      ]
     },
     "execution_count": 3,
     "metadata": {},
     "output_type": "execute_result"
    }
   ],
   "source": [
    "df.head()"
   ]
  },
  {
   "cell_type": "code",
   "execution_count": 4,
   "metadata": {},
   "outputs": [
    {
     "data": {
      "text/plain": [
       "Index(['Pregnancies', 'Glucose', 'BloodPressure', 'SkinThickness', 'Insulin',\n",
       "       'BMI', 'DiabetesPedigreeFunction', 'Age', 'Outcome'],\n",
       "      dtype='object')"
      ]
     },
     "execution_count": 4,
     "metadata": {},
     "output_type": "execute_result"
    }
   ],
   "source": [
    "df.columns"
   ]
  },
  {
   "cell_type": "code",
   "execution_count": 5,
   "metadata": {},
   "outputs": [],
   "source": [
    "# split into input (X) and output (y) variables\n",
    "X = df.drop(['Outcome'], axis = 1)\n",
    "y = df[\"Outcome\"]"
   ]
  },
  {
   "cell_type": "code",
   "execution_count": 6,
   "metadata": {},
   "outputs": [],
   "source": [
    "# Split dataset into training set and test set\n",
    "from sklearn.model_selection import train_test_split # Import train_test_split function\n",
    "X_train, X_test, y_train, y_test = train_test_split(X, y, test_size=0.3, random_state=1) # 70% training and 30% test"
   ]
  },
  {
   "cell_type": "markdown",
   "metadata": {},
   "source": [
    "#### Step 2. Define Keras Model"
   ]
  },
  {
   "cell_type": "markdown",
   "metadata": {},
   "source": [
    "Models in Keras are defined as a sequence of layers.\n",
    "\n",
    "We create a Sequential model and add layers one at a time until we are happy with our network architecture.\n",
    "\n",
    "The first thing to get right is to ensure the input layer has the right number of input features. This can be specified when creating the first layer with the input_dim argument and setting it to 8 for the 8 input variables.\n",
    "\n",
    "How do we know the number of layers and their types?\n",
    "\n",
    "This is a very hard question. There are heuristics that we can use and often the best network structure is found through a process of trial and error experimentation (I explain more about this here). Generally, you need a network large enough to capture the structure of the problem."
   ]
  },
  {
   "cell_type": "markdown",
   "metadata": {},
   "source": [
    "In this example, we will use a fully-connected network structure with three layers.\n",
    "\n",
    "Fully connected layers are defined using the Dense class. We can specify the number of neurons or nodes in the layer as the first argument, and specify the activation function using the activation argument.\n",
    "\n",
    "We will use the rectified linear unit activation function referred to as ReLU on the first two layers and the Sigmoid function in the output layer.\n",
    "\n",
    "It used to be the case that Sigmoid and Tanh activation functions were preferred for all layers. These days, better performance is achieved using the ReLU activation function. We use a sigmoid on the output layer to ensure our network output is between 0 and 1 and easy to map to either a probability of class 1 or snap to a hard classification of either class with a default threshold of 0.5."
   ]
  },
  {
   "cell_type": "markdown",
   "metadata": {},
   "source": [
    "We can piece it all together by adding each layer:\n",
    "\n",
    "The model expects rows of data with 8 variables (the input_dim=8 argument)\n",
    "The first hidden layer has 12 nodes and uses the relu activation function.\n",
    "The second hidden layer has 8 nodes and uses the relu activation function.\n",
    "The output layer has one node and uses the sigmoid activation function."
   ]
  },
  {
   "cell_type": "code",
   "execution_count": 7,
   "metadata": {},
   "outputs": [],
   "source": [
    "# define the keras model\n",
    "model = Sequential()\n",
    "model.add(Dense(12, input_dim=8, activation='relu'))\n",
    "model.add(Dense(8, activation='relu'))\n",
    "model.add(Dense(1, activation='sigmoid'))"
   ]
  },
  {
   "cell_type": "markdown",
   "metadata": {},
   "source": [
    "Note, the most confusing thing here is that the shape of the input to the model is defined as an argument on the first hidden layer. This means that the line of code that adds the first Dense layer is doing 2 things, defining the input or visible layer and the first hidden layer."
   ]
  },
  {
   "cell_type": "markdown",
   "metadata": {},
   "source": [
    "#### Step 3. Compile Keras Model"
   ]
  },
  {
   "cell_type": "markdown",
   "metadata": {},
   "source": [
    "Compiling the model uses the efficient numerical libraries under the covers (the so-called backend) such as Theano or TensorFlow. The backend automatically chooses the best way to represent the network for training and making predictions to run on your hardware, such as CPU or GPU or even distributed.\n",
    "\n",
    "When compiling, we must specify some additional properties required when training the network. Remember training a network means finding the best set of weights to map inputs to outputs in our dataset.\n",
    "\n",
    "We must specify the loss function to use to evaluate a set of weights, the optimizer is used to search through different weights for the network and any optional metrics we would like to collect and report during training.\n",
    "\n",
    "In this case, we will use cross entropy as the loss argument. This loss is for a binary classification problems and is defined in Keras as “binary_crossentropy“"
   ]
  },
  {
   "cell_type": "markdown",
   "metadata": {},
   "source": [
    "We will define the optimizer as the efficient stochastic gradient descent algorithm “adam“. This is a popular version of gradient descent because it automatically tunes itself and gives good results in a wide range of problems."
   ]
  },
  {
   "cell_type": "markdown",
   "metadata": {},
   "source": [
    "Finally, because it is a classification problem, we will collect and report the classification accuracy, defined via the metrics argument"
   ]
  },
  {
   "cell_type": "code",
   "execution_count": 8,
   "metadata": {},
   "outputs": [],
   "source": [
    "# compile the keras model\n",
    "model.compile(loss='binary_crossentropy', optimizer='adam', metrics=['accuracy'])"
   ]
  },
  {
   "cell_type": "markdown",
   "metadata": {},
   "source": [
    "#### Step 4. Fit Keras Model"
   ]
  },
  {
   "cell_type": "markdown",
   "metadata": {},
   "source": [
    "We can train or fit our model on our loaded data by calling the fit() function on the model.\n",
    "\n",
    "Training occurs over epochs and each epoch is split into batches.\n",
    "\n",
    "Epoch: One pass through all of the rows in the training dataset.\n",
    "Batch: One or more samples considered by the model within an epoch before weights are updated."
   ]
  },
  {
   "cell_type": "markdown",
   "metadata": {},
   "source": [
    "For this problem, we will run for a small number of epochs (150) and use a relatively small batch size of 10.\n",
    "\n",
    "These configurations can be chosen experimentally by trial and error. We want to train the model enough so that it learns a good (or good enough) mapping of rows of input data to the output classification. The model will always have some error, but the amount of error will level out after some point for a given model configuration. This is called model convergence"
   ]
  },
  {
   "cell_type": "code",
   "execution_count": 9,
   "metadata": {},
   "outputs": [
    {
     "name": "stdout",
     "output_type": "stream",
     "text": [
      "Epoch 1/150\n",
      "17/17 [==============================] - 44s 4ms/step - loss: 19.7426 - accuracy: 0.6460\n",
      "Epoch 2/150\n",
      "17/17 [==============================] - 0s 4ms/step - loss: 9.4859 - accuracy: 0.6582\n",
      "Epoch 3/150\n",
      "17/17 [==============================] - 0s 4ms/step - loss: 2.8655 - accuracy: 0.6268\n",
      "Epoch 4/150\n",
      "17/17 [==============================] - 0s 4ms/step - loss: 2.0398 - accuracy: 0.5880\n",
      "Epoch 5/150\n",
      "17/17 [==============================] - 0s 4ms/step - loss: 1.5925 - accuracy: 0.6310\n",
      "Epoch 6/150\n",
      "17/17 [==============================] - 0s 4ms/step - loss: 1.3653 - accuracy: 0.6617\n",
      "Epoch 7/150\n",
      "17/17 [==============================] - 0s 4ms/step - loss: 1.3458 - accuracy: 0.6405\n",
      "Epoch 8/150\n",
      "17/17 [==============================] - 0s 4ms/step - loss: 1.2830 - accuracy: 0.6324\n",
      "Epoch 9/150\n",
      "17/17 [==============================] - 0s 4ms/step - loss: 1.2955 - accuracy: 0.6345\n",
      "Epoch 10/150\n",
      "17/17 [==============================] - 0s 4ms/step - loss: 1.0845 - accuracy: 0.6259\n",
      "Epoch 11/150\n",
      "17/17 [==============================] - 0s 4ms/step - loss: 1.0109 - accuracy: 0.6410\n",
      "Epoch 12/150\n",
      "17/17 [==============================] - 0s 4ms/step - loss: 1.0842 - accuracy: 0.6546\n",
      "Epoch 13/150\n",
      "17/17 [==============================] - 0s 4ms/step - loss: 0.9575 - accuracy: 0.6542\n",
      "Epoch 14/150\n",
      "17/17 [==============================] - 0s 4ms/step - loss: 0.9314 - accuracy: 0.6251\n",
      "Epoch 15/150\n",
      "17/17 [==============================] - 0s 4ms/step - loss: 0.9411 - accuracy: 0.5899\n",
      "Epoch 16/150\n",
      "17/17 [==============================] - 0s 4ms/step - loss: 0.8714 - accuracy: 0.6654\n",
      "Epoch 17/150\n",
      "17/17 [==============================] - 0s 4ms/step - loss: 0.8548 - accuracy: 0.6673\n",
      "Epoch 18/150\n",
      "17/17 [==============================] - 0s 4ms/step - loss: 0.7539 - accuracy: 0.6884\n",
      "Epoch 19/150\n",
      "17/17 [==============================] - 0s 4ms/step - loss: 0.9012 - accuracy: 0.6233\n",
      "Epoch 20/150\n",
      "17/17 [==============================] - 0s 4ms/step - loss: 0.8414 - accuracy: 0.6517\n",
      "Epoch 21/150\n",
      "17/17 [==============================] - 0s 4ms/step - loss: 0.8980 - accuracy: 0.6369\n",
      "Epoch 22/150\n",
      "17/17 [==============================] - 0s 4ms/step - loss: 0.8062 - accuracy: 0.6764\n",
      "Epoch 23/150\n",
      "17/17 [==============================] - 0s 4ms/step - loss: 0.7454 - accuracy: 0.6580\n",
      "Epoch 24/150\n",
      "17/17 [==============================] - 0s 4ms/step - loss: 0.7190 - accuracy: 0.6997\n",
      "Epoch 25/150\n",
      "17/17 [==============================] - 0s 4ms/step - loss: 0.9073 - accuracy: 0.5845\n",
      "Epoch 26/150\n",
      "17/17 [==============================] - 0s 4ms/step - loss: 0.7304 - accuracy: 0.6639\n",
      "Epoch 27/150\n",
      "17/17 [==============================] - 0s 4ms/step - loss: 0.6852 - accuracy: 0.6669\n",
      "Epoch 28/150\n",
      "17/17 [==============================] - 0s 4ms/step - loss: 0.6994 - accuracy: 0.6819\n",
      "Epoch 29/150\n",
      "17/17 [==============================] - 0s 4ms/step - loss: 0.6707 - accuracy: 0.6962\n",
      "Epoch 30/150\n",
      "17/17 [==============================] - 0s 5ms/step - loss: 0.6583 - accuracy: 0.6881\n",
      "Epoch 31/150\n",
      "17/17 [==============================] - 0s 4ms/step - loss: 0.6429 - accuracy: 0.6972\n",
      "Epoch 32/150\n",
      "17/17 [==============================] - 0s 4ms/step - loss: 0.7082 - accuracy: 0.6415\n",
      "Epoch 33/150\n",
      "17/17 [==============================] - 0s 4ms/step - loss: 0.6154 - accuracy: 0.7223\n",
      "Epoch 34/150\n",
      "17/17 [==============================] - 0s 4ms/step - loss: 0.6549 - accuracy: 0.6869\n",
      "Epoch 35/150\n",
      "17/17 [==============================] - 0s 4ms/step - loss: 0.6525 - accuracy: 0.6718\n",
      "Epoch 36/150\n",
      "17/17 [==============================] - 0s 4ms/step - loss: 0.7080 - accuracy: 0.6604\n",
      "Epoch 37/150\n",
      "17/17 [==============================] - 0s 4ms/step - loss: 0.6861 - accuracy: 0.6646\n",
      "Epoch 38/150\n",
      "17/17 [==============================] - 0s 4ms/step - loss: 0.6781 - accuracy: 0.6835\n",
      "Epoch 39/150\n",
      "17/17 [==============================] - 0s 4ms/step - loss: 0.7074 - accuracy: 0.6739\n",
      "Epoch 40/150\n",
      "17/17 [==============================] - 0s 4ms/step - loss: 0.6889 - accuracy: 0.6546\n",
      "Epoch 41/150\n",
      "17/17 [==============================] - 0s 4ms/step - loss: 0.5920 - accuracy: 0.6867\n",
      "Epoch 42/150\n",
      "17/17 [==============================] - 0s 4ms/step - loss: 0.6504 - accuracy: 0.7193\n",
      "Epoch 43/150\n",
      "17/17 [==============================] - 0s 4ms/step - loss: 0.6747 - accuracy: 0.6827\n",
      "Epoch 44/150\n",
      "17/17 [==============================] - 0s 4ms/step - loss: 0.6311 - accuracy: 0.6759\n",
      "Epoch 45/150\n",
      "17/17 [==============================] - 0s 4ms/step - loss: 0.6327 - accuracy: 0.7147\n",
      "Epoch 46/150\n",
      "17/17 [==============================] - 0s 4ms/step - loss: 0.6686 - accuracy: 0.6891\n",
      "Epoch 47/150\n",
      "17/17 [==============================] - 0s 4ms/step - loss: 0.6199 - accuracy: 0.7113\n",
      "Epoch 48/150\n",
      "17/17 [==============================] - 0s 4ms/step - loss: 0.6636 - accuracy: 0.6861\n",
      "Epoch 49/150\n",
      "17/17 [==============================] - 0s 4ms/step - loss: 0.5825 - accuracy: 0.7153\n",
      "Epoch 50/150\n",
      "17/17 [==============================] - 0s 4ms/step - loss: 0.6540 - accuracy: 0.6898\n",
      "Epoch 51/150\n",
      "17/17 [==============================] - 0s 4ms/step - loss: 0.6435 - accuracy: 0.7104\n",
      "Epoch 52/150\n",
      "17/17 [==============================] - 0s 4ms/step - loss: 0.6965 - accuracy: 0.6825\n",
      "Epoch 53/150\n",
      "17/17 [==============================] - 0s 4ms/step - loss: 0.6451 - accuracy: 0.6989\n",
      "Epoch 54/150\n",
      "17/17 [==============================] - 0s 4ms/step - loss: 0.6254 - accuracy: 0.6994\n",
      "Epoch 55/150\n",
      "17/17 [==============================] - 0s 4ms/step - loss: 0.6364 - accuracy: 0.6811\n",
      "Epoch 56/150\n",
      "17/17 [==============================] - 0s 4ms/step - loss: 0.5911 - accuracy: 0.7058\n",
      "Epoch 57/150\n",
      "17/17 [==============================] - 0s 4ms/step - loss: 0.6163 - accuracy: 0.6978\n",
      "Epoch 58/150\n",
      "17/17 [==============================] - 0s 4ms/step - loss: 0.5835 - accuracy: 0.7092\n",
      "Epoch 59/150\n",
      "17/17 [==============================] - 0s 4ms/step - loss: 0.6148 - accuracy: 0.7061\n",
      "Epoch 60/150\n",
      "17/17 [==============================] - 0s 4ms/step - loss: 0.6361 - accuracy: 0.6810\n",
      "Epoch 61/150\n",
      "17/17 [==============================] - 0s 4ms/step - loss: 0.6696 - accuracy: 0.6382\n",
      "Epoch 62/150\n",
      "17/17 [==============================] - 0s 4ms/step - loss: 0.6047 - accuracy: 0.6877\n",
      "Epoch 63/150\n",
      "17/17 [==============================] - 0s 4ms/step - loss: 0.5907 - accuracy: 0.7371\n",
      "Epoch 64/150\n",
      "17/17 [==============================] - 0s 4ms/step - loss: 0.6115 - accuracy: 0.6908\n",
      "Epoch 65/150\n",
      "17/17 [==============================] - 0s 4ms/step - loss: 0.6661 - accuracy: 0.6924\n",
      "Epoch 66/150\n",
      "17/17 [==============================] - 0s 4ms/step - loss: 0.6225 - accuracy: 0.7229\n",
      "Epoch 67/150\n",
      "17/17 [==============================] - 0s 4ms/step - loss: 0.6189 - accuracy: 0.7066\n",
      "Epoch 68/150\n",
      "17/17 [==============================] - 0s 4ms/step - loss: 0.5938 - accuracy: 0.7266\n",
      "Epoch 69/150\n",
      "17/17 [==============================] - 0s 4ms/step - loss: 0.6649 - accuracy: 0.7047\n",
      "Epoch 70/150\n",
      "17/17 [==============================] - 0s 4ms/step - loss: 0.6347 - accuracy: 0.7194\n",
      "Epoch 71/150\n",
      "17/17 [==============================] - 0s 4ms/step - loss: 0.5728 - accuracy: 0.7200\n",
      "Epoch 72/150\n",
      "17/17 [==============================] - 0s 3ms/step - loss: 0.5953 - accuracy: 0.7216\n",
      "Epoch 73/150\n",
      "17/17 [==============================] - 0s 4ms/step - loss: 0.5799 - accuracy: 0.7126\n",
      "Epoch 74/150\n",
      "17/17 [==============================] - 0s 4ms/step - loss: 0.5594 - accuracy: 0.6893\n",
      "Epoch 75/150\n",
      "17/17 [==============================] - 0s 4ms/step - loss: 0.5745 - accuracy: 0.7001\n",
      "Epoch 76/150\n",
      "17/17 [==============================] - 0s 4ms/step - loss: 0.5927 - accuracy: 0.7192\n",
      "Epoch 77/150\n",
      "17/17 [==============================] - 0s 4ms/step - loss: 0.5681 - accuracy: 0.7325\n",
      "Epoch 78/150\n",
      "17/17 [==============================] - 0s 4ms/step - loss: 0.5861 - accuracy: 0.7062\n",
      "Epoch 79/150\n",
      "17/17 [==============================] - 0s 4ms/step - loss: 0.6013 - accuracy: 0.7042\n",
      "Epoch 80/150\n",
      "17/17 [==============================] - 0s 4ms/step - loss: 0.5836 - accuracy: 0.7312\n",
      "Epoch 81/150\n",
      "17/17 [==============================] - 0s 4ms/step - loss: 0.5952 - accuracy: 0.7143\n",
      "Epoch 82/150\n",
      "17/17 [==============================] - 0s 4ms/step - loss: 0.5863 - accuracy: 0.7143\n"
     ]
    },
    {
     "name": "stdout",
     "output_type": "stream",
     "text": [
      "Epoch 83/150\n",
      "17/17 [==============================] - 0s 3ms/step - loss: 0.5442 - accuracy: 0.7573\n",
      "Epoch 84/150\n",
      "17/17 [==============================] - 0s 4ms/step - loss: 0.5630 - accuracy: 0.7225\n",
      "Epoch 85/150\n",
      "17/17 [==============================] - 0s 4ms/step - loss: 0.5856 - accuracy: 0.7157\n",
      "Epoch 86/150\n",
      "17/17 [==============================] - 0s 4ms/step - loss: 0.6328 - accuracy: 0.6735\n",
      "Epoch 87/150\n",
      "17/17 [==============================] - 0s 3ms/step - loss: 0.5630 - accuracy: 0.7075\n",
      "Epoch 88/150\n",
      "17/17 [==============================] - 0s 4ms/step - loss: 0.5925 - accuracy: 0.6876\n",
      "Epoch 89/150\n",
      "17/17 [==============================] - 0s 4ms/step - loss: 0.6012 - accuracy: 0.6745\n",
      "Epoch 90/150\n",
      "17/17 [==============================] - 0s 4ms/step - loss: 0.5670 - accuracy: 0.7250\n",
      "Epoch 91/150\n",
      "17/17 [==============================] - 0s 4ms/step - loss: 0.5842 - accuracy: 0.7231\n",
      "Epoch 92/150\n",
      "17/17 [==============================] - 0s 4ms/step - loss: 0.5971 - accuracy: 0.7133\n",
      "Epoch 93/150\n",
      "17/17 [==============================] - 0s 4ms/step - loss: 0.5884 - accuracy: 0.6964\n",
      "Epoch 94/150\n",
      "17/17 [==============================] - 0s 4ms/step - loss: 0.6042 - accuracy: 0.6816\n",
      "Epoch 95/150\n",
      "17/17 [==============================] - 0s 4ms/step - loss: 0.5575 - accuracy: 0.7442\n",
      "Epoch 96/150\n",
      "17/17 [==============================] - 0s 4ms/step - loss: 0.5957 - accuracy: 0.7117\n",
      "Epoch 97/150\n",
      "17/17 [==============================] - 0s 3ms/step - loss: 0.5487 - accuracy: 0.7290\n",
      "Epoch 98/150\n",
      "17/17 [==============================] - 0s 4ms/step - loss: 0.5744 - accuracy: 0.7100\n",
      "Epoch 99/150\n",
      "17/17 [==============================] - 0s 4ms/step - loss: 0.5438 - accuracy: 0.7227\n",
      "Epoch 100/150\n",
      "17/17 [==============================] - 0s 4ms/step - loss: 0.5534 - accuracy: 0.7308\n",
      "Epoch 101/150\n",
      "17/17 [==============================] - 0s 4ms/step - loss: 0.5511 - accuracy: 0.7350\n",
      "Epoch 102/150\n",
      "17/17 [==============================] - 0s 4ms/step - loss: 0.5582 - accuracy: 0.7562\n",
      "Epoch 103/150\n",
      "17/17 [==============================] - 0s 3ms/step - loss: 0.5300 - accuracy: 0.7643\n",
      "Epoch 104/150\n",
      "17/17 [==============================] - 0s 4ms/step - loss: 0.5790 - accuracy: 0.6821\n",
      "Epoch 105/150\n",
      "17/17 [==============================] - 0s 4ms/step - loss: 0.5384 - accuracy: 0.7395\n",
      "Epoch 106/150\n",
      "17/17 [==============================] - 0s 3ms/step - loss: 0.5678 - accuracy: 0.7029\n",
      "Epoch 107/150\n",
      "17/17 [==============================] - 0s 4ms/step - loss: 0.5528 - accuracy: 0.7439\n",
      "Epoch 108/150\n",
      "17/17 [==============================] - 0s 4ms/step - loss: 0.5794 - accuracy: 0.7221\n",
      "Epoch 109/150\n",
      "17/17 [==============================] - 0s 4ms/step - loss: 0.5329 - accuracy: 0.7202\n",
      "Epoch 110/150\n",
      "17/17 [==============================] - 0s 4ms/step - loss: 0.5191 - accuracy: 0.7652\n",
      "Epoch 111/150\n",
      "17/17 [==============================] - 0s 4ms/step - loss: 0.5157 - accuracy: 0.7230\n",
      "Epoch 112/150\n",
      "17/17 [==============================] - 0s 4ms/step - loss: 0.5718 - accuracy: 0.6930\n",
      "Epoch 113/150\n",
      "17/17 [==============================] - 0s 4ms/step - loss: 0.5770 - accuracy: 0.7030\n",
      "Epoch 114/150\n",
      "17/17 [==============================] - 0s 4ms/step - loss: 0.5704 - accuracy: 0.6856\n",
      "Epoch 115/150\n",
      "17/17 [==============================] - 0s 4ms/step - loss: 0.5500 - accuracy: 0.7222\n",
      "Epoch 116/150\n",
      "17/17 [==============================] - 0s 4ms/step - loss: 0.5516 - accuracy: 0.7345\n",
      "Epoch 117/150\n",
      "17/17 [==============================] - 0s 4ms/step - loss: 0.5337 - accuracy: 0.7195\n",
      "Epoch 118/150\n",
      "17/17 [==============================] - 0s 4ms/step - loss: 0.5556 - accuracy: 0.6935\n",
      "Epoch 119/150\n",
      "17/17 [==============================] - 0s 4ms/step - loss: 0.5774 - accuracy: 0.6993\n",
      "Epoch 120/150\n",
      "17/17 [==============================] - 0s 4ms/step - loss: 0.5971 - accuracy: 0.6925\n",
      "Epoch 121/150\n",
      "17/17 [==============================] - 0s 4ms/step - loss: 0.5396 - accuracy: 0.7284\n",
      "Epoch 122/150\n",
      "17/17 [==============================] - 0s 4ms/step - loss: 0.5726 - accuracy: 0.6861\n",
      "Epoch 123/150\n",
      "17/17 [==============================] - 0s 4ms/step - loss: 0.5648 - accuracy: 0.7300\n",
      "Epoch 124/150\n",
      "17/17 [==============================] - 0s 4ms/step - loss: 0.5422 - accuracy: 0.7292\n",
      "Epoch 125/150\n",
      "17/17 [==============================] - 0s 4ms/step - loss: 0.5858 - accuracy: 0.6878\n",
      "Epoch 126/150\n",
      "17/17 [==============================] - 0s 4ms/step - loss: 0.5665 - accuracy: 0.7179\n",
      "Epoch 127/150\n",
      "17/17 [==============================] - 0s 4ms/step - loss: 0.5511 - accuracy: 0.7379\n",
      "Epoch 128/150\n",
      "17/17 [==============================] - 0s 3ms/step - loss: 0.5782 - accuracy: 0.7271\n",
      "Epoch 129/150\n",
      "17/17 [==============================] - 0s 4ms/step - loss: 0.5708 - accuracy: 0.6938\n",
      "Epoch 130/150\n",
      "17/17 [==============================] - 0s 4ms/step - loss: 0.5500 - accuracy: 0.7211\n",
      "Epoch 131/150\n",
      "17/17 [==============================] - 0s 4ms/step - loss: 0.5471 - accuracy: 0.7227\n",
      "Epoch 132/150\n",
      "17/17 [==============================] - 0s 4ms/step - loss: 0.5324 - accuracy: 0.7156\n",
      "Epoch 133/150\n",
      "17/17 [==============================] - 0s 4ms/step - loss: 0.5399 - accuracy: 0.7230\n",
      "Epoch 134/150\n",
      "17/17 [==============================] - 0s 4ms/step - loss: 0.5522 - accuracy: 0.7184\n",
      "Epoch 135/150\n",
      "17/17 [==============================] - 0s 3ms/step - loss: 0.5348 - accuracy: 0.7346\n",
      "Epoch 136/150\n",
      "17/17 [==============================] - 0s 4ms/step - loss: 0.4994 - accuracy: 0.7580\n",
      "Epoch 137/150\n",
      "17/17 [==============================] - 0s 4ms/step - loss: 0.5860 - accuracy: 0.6854\n",
      "Epoch 138/150\n",
      "17/17 [==============================] - 0s 4ms/step - loss: 0.5688 - accuracy: 0.7214\n",
      "Epoch 139/150\n",
      "17/17 [==============================] - 0s 4ms/step - loss: 0.5210 - accuracy: 0.7518\n",
      "Epoch 140/150\n",
      "17/17 [==============================] - 0s 4ms/step - loss: 0.5620 - accuracy: 0.7232\n",
      "Epoch 141/150\n",
      "17/17 [==============================] - 0s 4ms/step - loss: 0.5367 - accuracy: 0.7192\n",
      "Epoch 142/150\n",
      "17/17 [==============================] - 0s 4ms/step - loss: 0.5277 - accuracy: 0.7185\n",
      "Epoch 143/150\n",
      "17/17 [==============================] - 0s 4ms/step - loss: 0.5635 - accuracy: 0.7298\n",
      "Epoch 144/150\n",
      "17/17 [==============================] - 0s 4ms/step - loss: 0.5297 - accuracy: 0.7441\n",
      "Epoch 145/150\n",
      "17/17 [==============================] - 0s 4ms/step - loss: 0.5188 - accuracy: 0.7421\n",
      "Epoch 146/150\n",
      "17/17 [==============================] - 0s 4ms/step - loss: 0.5359 - accuracy: 0.7139\n",
      "Epoch 147/150\n",
      "17/17 [==============================] - 0s 4ms/step - loss: 0.5397 - accuracy: 0.7164\n",
      "Epoch 148/150\n",
      "17/17 [==============================] - 0s 4ms/step - loss: 0.5385 - accuracy: 0.7174\n",
      "Epoch 149/150\n",
      "17/17 [==============================] - 0s 4ms/step - loss: 0.5822 - accuracy: 0.6804\n",
      "Epoch 150/150\n",
      "17/17 [==============================] - 0s 4ms/step - loss: 0.6069 - accuracy: 0.6667\n"
     ]
    },
    {
     "data": {
      "text/plain": [
       "<keras.callbacks.History at 0x25dd9df7c48>"
      ]
     },
     "execution_count": 9,
     "metadata": {},
     "output_type": "execute_result"
    }
   ],
   "source": [
    "# fit the keras model on the dataset\n",
    "model.fit(X_train, y_train, epochs=150)"
   ]
  },
  {
   "cell_type": "markdown",
   "metadata": {},
   "source": [
    "This is where the work happens on your CPU or GPU"
   ]
  },
  {
   "cell_type": "markdown",
   "metadata": {},
   "source": [
    "#### Step 5. Evaluate Keras Model"
   ]
  },
  {
   "cell_type": "markdown",
   "metadata": {},
   "source": [
    "You can evaluate your model on your training dataset using the evaluate() function on your model and pass it the same input and output used to train the model.\n",
    "\n",
    "This will generate a prediction for each input and output pair and collect scores, including the average loss and any metrics you have configured, such as accuracy.\n",
    "\n",
    "The evaluate() function will return a list with two values. The first will be the loss of the model on the dataset and the second will be the accuracy of the model on the dataset. We are only interested in reporting the accuracy, so we will ignore the loss value."
   ]
  },
  {
   "cell_type": "code",
   "execution_count": 10,
   "metadata": {},
   "outputs": [
    {
     "name": "stdout",
     "output_type": "stream",
     "text": [
      "17/17 [==============================] - 1s 2ms/step - loss: 0.5231 - accuracy: 0.7356\n"
     ]
    },
    {
     "data": {
      "text/plain": [
       "[0.5230896472930908, 0.7355679869651794]"
      ]
     },
     "execution_count": 10,
     "metadata": {},
     "output_type": "execute_result"
    }
   ],
   "source": [
    "# evaluate the keras model on the training dataset\n",
    "model.evaluate(X_train, y_train)"
   ]
  },
  {
   "cell_type": "code",
   "execution_count": 11,
   "metadata": {},
   "outputs": [
    {
     "name": "stdout",
     "output_type": "stream",
     "text": [
      "8/8 [==============================] - 0s 7ms/step - loss: 0.7561 - accuracy: 0.7143\n"
     ]
    },
    {
     "data": {
      "text/plain": [
       "[0.7560787200927734, 0.7142857313156128]"
      ]
     },
     "execution_count": 11,
     "metadata": {},
     "output_type": "execute_result"
    }
   ],
   "source": [
    "# evaluate the keras model on test dataset\n",
    "model.evaluate(X_test, y_test)"
   ]
  },
  {
   "cell_type": "markdown",
   "metadata": {},
   "source": [
    "#### Step 6. Make Predictions"
   ]
  },
  {
   "cell_type": "markdown",
   "metadata": {},
   "source": [
    "Making predictions is as easy as calling the predict() function on the model. We are using a sigmoid activation function on the output layer, so the predictions will be a probability in the range between 0 and 1. We can easily convert them into a crisp binary prediction for this classification task by rounding them."
   ]
  },
  {
   "cell_type": "code",
   "execution_count": 12,
   "metadata": {},
   "outputs": [
    {
     "name": "stdout",
     "output_type": "stream",
     "text": [
      "[[0.8457864 ]\n",
      " [0.3771112 ]\n",
      " [0.37077594]\n",
      " [0.01334098]\n",
      " [0.23299989]]\n"
     ]
    }
   ],
   "source": [
    "# make probability predictions with the model\n",
    "predictions = model.predict(X_test)\n",
    "print(predictions[:5])"
   ]
  },
  {
   "cell_type": "code",
   "execution_count": 13,
   "metadata": {},
   "outputs": [
    {
     "name": "stdout",
     "output_type": "stream",
     "text": [
      "[1, 0, 0, 0, 0, 1, 1, 0, 0, 0, 0, 0, 1, 1, 0, 0, 0, 0, 0, 1, 1, 0, 0, 0, 0, 0, 0, 1, 0, 1, 1, 1, 0, 1, 0, 1, 0, 0, 0, 1, 0, 0, 0, 0, 0, 0, 1, 1, 0, 0, 0, 0, 0, 0, 1, 0, 1, 0, 0, 1, 1, 0, 1, 0, 1, 0, 0, 0, 1, 1, 1, 0, 1, 0, 0, 0, 0, 0, 0, 1, 0, 0, 0, 0, 0, 0, 0, 0, 0, 0, 0, 0, 0, 0, 1, 0, 1, 0, 0, 0, 0, 1, 0, 0, 1, 0, 1, 0, 0, 0, 1, 0, 1, 0, 0, 0, 0, 0, 0, 0, 0, 1, 0, 1, 1, 0, 0, 0, 1, 0, 1, 0, 0, 1, 1, 0, 0, 0, 0, 0, 1, 0, 0, 1, 0, 1, 0, 0, 0, 0, 0, 1, 0, 1, 0, 1, 0, 0, 0, 0, 0, 1, 0, 0, 1, 0, 0, 1, 1, 0, 1, 1, 0, 0, 1, 0, 1, 0, 0, 0, 1, 0, 0, 1, 0, 0, 0, 1, 1, 1, 0, 0, 0, 0, 0, 0, 0, 0, 0, 0, 1, 0, 0, 0, 1, 1, 0, 0, 0, 1, 0, 1, 0, 0, 0, 0, 0, 0, 0, 1, 1, 0, 0, 1, 0, 0, 0, 1, 0, 1, 1]\n"
     ]
    }
   ],
   "source": [
    "# round predictions \n",
    "y_pred = [round(x[0]) for x in predictions]\n",
    "print(y_pred)"
   ]
  },
  {
   "cell_type": "code",
   "execution_count": 14,
   "metadata": {},
   "outputs": [
    {
     "name": "stdout",
     "output_type": "stream",
     "text": [
      "              precision    recall  f1-score   support\n",
      "\n",
      "           0       0.75      0.82      0.78       146\n",
      "           1       0.63      0.53      0.58        85\n",
      "\n",
      "    accuracy                           0.71       231\n",
      "   macro avg       0.69      0.68      0.68       231\n",
      "weighted avg       0.71      0.71      0.71       231\n",
      "\n"
     ]
    }
   ],
   "source": [
    "from sklearn.metrics import confusion_matrix , classification_report\n",
    "print(classification_report(y_test,y_pred))"
   ]
  },
  {
   "cell_type": "code",
   "execution_count": 15,
   "metadata": {},
   "outputs": [
    {
     "data": {
      "text/plain": [
       "Text(69.0, 0.5, 'Truth')"
      ]
     },
     "execution_count": 15,
     "metadata": {},
     "output_type": "execute_result"
    },
    {
     "data": {
      "image/png": "[encoded data removed]",
      "text/plain": [
       "<Figure size 720x504 with 2 Axes>"
      ]
     },
     "metadata": {
      "needs_background": "light"
     },
     "output_type": "display_data"
    }
   ],
   "source": [
    "import seaborn as sn\n",
    "import matplotlib.pyplot as plt\n",
    "cm = confusion_matrix(y_test,y_pred)\n",
    "\n",
    "plt.figure(figsize = (10,7))\n",
    "sn.heatmap(cm, annot=True, fmt='d')\n",
    "plt.xlabel('Predicted')\n",
    "plt.ylabel('Truth')"
   ]
  },
  {
   "cell_type": "code",
   "execution_count": null,
   "metadata": {},
   "outputs": [],
   "source": []
  },
  {
   "cell_type": "code",
   "execution_count": null,
   "metadata": {},
   "outputs": [],
   "source": []
  }
 ],
 "metadata": {
  "kernelspec": {
   "display_name": "Python 3 (ipykernel)",
   "language": "python",
   "name": "python3"
  },
  "language_info": {
   "codemirror_mode": {
    "name": "ipython",
    "version": 3
   },
   "file_extension": ".py",
   "mimetype": "text/x-python",
   "name": "python",
   "nbconvert_exporter": "python",
   "pygments_lexer": "ipython3",
   "version": "3.7.8"
  }
 },
 "nbformat": 4,
 "nbformat_minor": 2
}
