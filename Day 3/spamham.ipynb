{
 "cells": [
  {
   "cell_type": "markdown",
   "id": "7fc9f4f8",
   "metadata": {},
   "source": [
    "# Spam Ham Classification"
   ]
  },
  {
   "cell_type": "code",
   "execution_count": 1,
   "id": "198eedc8",
   "metadata": {},
   "outputs": [],
   "source": [
    "#Importing essential libraries\n",
    "\n",
    "\n",
    "import pandas as pd\n",
    "import numpy as np\n",
    "import matplotlib.pyplot as plt\n",
    "import nltk\n",
    "import re\n",
    "from sklearn.feature_extraction.text import CountVectorizer\n",
    "from sklearn.model_selection import train_test_split\n",
    "from sklearn.linear_model import LogisticRegression\n",
    "from sklearn.metrics import accuracy_score,confusion_matrix,classification_report"
   ]
  },
  {
   "cell_type": "code",
   "execution_count": 2,
   "id": "49665fee",
   "metadata": {},
   "outputs": [],
   "source": [
    "#Load dataset\n",
    "\n",
    "\n",
    "# Encoding the data using only the first columns: the other seems to be an issue of the data (empty)\n",
    "\n",
    "#df = pd.read_csv('/home/mona/Desktop/python_notebooks/supervised_machine_learning/data_files/spam.csv', sep ='\\t' )\n",
    "df = pd.read_csv('https://raw.githubusercontent.com/mona-patra/FDP-5days/main/Day%203/spam.csv', sep ='\\t' )\n",
    "#df = pd.read_csv('/home/mona/ml_tutorial/data_files/spam.csv', sep=',', encoding='latin-1', usecols=lambda col: col not in [\"Unnamed: 2\",\"Unnamed: 3\",\"Unnamed: 4\"])"
   ]
  },
  {
   "cell_type": "code",
   "execution_count": 3,
   "id": "af9372e0",
   "metadata": {
    "scrolled": true
   },
   "outputs": [
    {
     "data": {
      "text/html": [
       "<div>\n",
       "<style scoped>\n",
       "    .dataframe tbody tr th:only-of-type {\n",
       "        vertical-align: middle;\n",
       "    }\n",
       "\n",
       "    .dataframe tbody tr th {\n",
       "        vertical-align: top;\n",
       "    }\n",
       "\n",
       "    .dataframe thead th {\n",
       "        text-align: right;\n",
       "    }\n",
       "</style>\n",
       "<table border=\"1\" class=\"dataframe\">\n",
       "  <thead>\n",
       "    <tr style=\"text-align: right;\">\n",
       "      <th></th>\n",
       "      <th>Type</th>\n",
       "      <th>Message</th>\n",
       "    </tr>\n",
       "  </thead>\n",
       "  <tbody>\n",
       "    <tr>\n",
       "      <th>0</th>\n",
       "      <td>ham</td>\n",
       "      <td>Go until jurong point, crazy.. Available only ...</td>\n",
       "    </tr>\n",
       "    <tr>\n",
       "      <th>1</th>\n",
       "      <td>ham</td>\n",
       "      <td>Ok lar... Joking wif u oni...</td>\n",
       "    </tr>\n",
       "    <tr>\n",
       "      <th>2</th>\n",
       "      <td>spam</td>\n",
       "      <td>Free entry in 2 a wkly comp to win FA Cup fina...</td>\n",
       "    </tr>\n",
       "    <tr>\n",
       "      <th>3</th>\n",
       "      <td>ham</td>\n",
       "      <td>U dun say so early hor... U c already then say...</td>\n",
       "    </tr>\n",
       "    <tr>\n",
       "      <th>4</th>\n",
       "      <td>ham</td>\n",
       "      <td>Nah I don't think he goes to usf, he lives aro...</td>\n",
       "    </tr>\n",
       "  </tbody>\n",
       "</table>\n",
       "</div>"
      ],
      "text/plain": [
       "   Type                                            Message\n",
       "0   ham  Go until jurong point, crazy.. Available only ...\n",
       "1   ham                      Ok lar... Joking wif u oni...\n",
       "2  spam  Free entry in 2 a wkly comp to win FA Cup fina...\n",
       "3   ham  U dun say so early hor... U c already then say...\n",
       "4   ham  Nah I don't think he goes to usf, he lives aro..."
      ]
     },
     "execution_count": 3,
     "metadata": {},
     "output_type": "execute_result"
    }
   ],
   "source": [
    "df.head()"
   ]
  },
  {
   "cell_type": "code",
   "execution_count": 4,
   "id": "9e261c75",
   "metadata": {},
   "outputs": [
    {
     "data": {
      "text/html": [
       "<div>\n",
       "<style scoped>\n",
       "    .dataframe tbody tr th:only-of-type {\n",
       "        vertical-align: middle;\n",
       "    }\n",
       "\n",
       "    .dataframe tbody tr th {\n",
       "        vertical-align: top;\n",
       "    }\n",
       "\n",
       "    .dataframe thead th {\n",
       "        text-align: right;\n",
       "    }\n",
       "</style>\n",
       "<table border=\"1\" class=\"dataframe\">\n",
       "  <thead>\n",
       "    <tr style=\"text-align: right;\">\n",
       "      <th></th>\n",
       "      <th>Type</th>\n",
       "      <th>Message</th>\n",
       "    </tr>\n",
       "  </thead>\n",
       "  <tbody>\n",
       "    <tr>\n",
       "      <th>count</th>\n",
       "      <td>656</td>\n",
       "      <td>656</td>\n",
       "    </tr>\n",
       "    <tr>\n",
       "      <th>unique</th>\n",
       "      <td>2</td>\n",
       "      <td>647</td>\n",
       "    </tr>\n",
       "    <tr>\n",
       "      <th>top</th>\n",
       "      <td>ham</td>\n",
       "      <td>Sorry, I'll call later</td>\n",
       "    </tr>\n",
       "    <tr>\n",
       "      <th>freq</th>\n",
       "      <td>577</td>\n",
       "      <td>5</td>\n",
       "    </tr>\n",
       "  </tbody>\n",
       "</table>\n",
       "</div>"
      ],
      "text/plain": [
       "       Type                 Message\n",
       "count   656                     656\n",
       "unique    2                     647\n",
       "top     ham  Sorry, I'll call later\n",
       "freq    577                       5"
      ]
     },
     "execution_count": 4,
     "metadata": {},
     "output_type": "execute_result"
    }
   ],
   "source": [
    "df.describe()"
   ]
  },
  {
   "cell_type": "code",
   "execution_count": 5,
   "id": "a7081a00",
   "metadata": {},
   "outputs": [
    {
     "data": {
      "text/html": [
       "<div>\n",
       "<style scoped>\n",
       "    .dataframe tbody tr th:only-of-type {\n",
       "        vertical-align: middle;\n",
       "    }\n",
       "\n",
       "    .dataframe tbody tr th {\n",
       "        vertical-align: top;\n",
       "    }\n",
       "\n",
       "    .dataframe thead tr th {\n",
       "        text-align: left;\n",
       "    }\n",
       "\n",
       "    .dataframe thead tr:last-of-type th {\n",
       "        text-align: right;\n",
       "    }\n",
       "</style>\n",
       "<table border=\"1\" class=\"dataframe\">\n",
       "  <thead>\n",
       "    <tr>\n",
       "      <th></th>\n",
       "      <th colspan=\"4\" halign=\"left\">Message</th>\n",
       "    </tr>\n",
       "    <tr>\n",
       "      <th></th>\n",
       "      <th>count</th>\n",
       "      <th>unique</th>\n",
       "      <th>top</th>\n",
       "      <th>freq</th>\n",
       "    </tr>\n",
       "    <tr>\n",
       "      <th>Type</th>\n",
       "      <th></th>\n",
       "      <th></th>\n",
       "      <th></th>\n",
       "      <th></th>\n",
       "    </tr>\n",
       "  </thead>\n",
       "  <tbody>\n",
       "    <tr>\n",
       "      <th>ham</th>\n",
       "      <td>577</td>\n",
       "      <td>568</td>\n",
       "      <td>Sorry, I'll call later</td>\n",
       "      <td>5</td>\n",
       "    </tr>\n",
       "    <tr>\n",
       "      <th>spam</th>\n",
       "      <td>79</td>\n",
       "      <td>79</td>\n",
       "      <td>Had your mobile 11 months or more? U R entitle...</td>\n",
       "      <td>1</td>\n",
       "    </tr>\n",
       "  </tbody>\n",
       "</table>\n",
       "</div>"
      ],
      "text/plain": [
       "     Message                                                               \n",
       "       count unique                                                top freq\n",
       "Type                                                                       \n",
       "ham      577    568                             Sorry, I'll call later    5\n",
       "spam      79     79  Had your mobile 11 months or more? U R entitle...    1"
      ]
     },
     "execution_count": 5,
     "metadata": {},
     "output_type": "execute_result"
    }
   ],
   "source": [
    "df.groupby('Type').describe()"
   ]
  },
  {
   "cell_type": "markdown",
   "id": "d575b898",
   "metadata": {},
   "source": [
    "We make a new column to detect how long the text messages are"
   ]
  },
  {
   "cell_type": "code",
   "execution_count": 6,
   "id": "e6b12b18",
   "metadata": {},
   "outputs": [
    {
     "data": {
      "text/html": [
       "<div>\n",
       "<style scoped>\n",
       "    .dataframe tbody tr th:only-of-type {\n",
       "        vertical-align: middle;\n",
       "    }\n",
       "\n",
       "    .dataframe tbody tr th {\n",
       "        vertical-align: top;\n",
       "    }\n",
       "\n",
       "    .dataframe thead th {\n",
       "        text-align: right;\n",
       "    }\n",
       "</style>\n",
       "<table border=\"1\" class=\"dataframe\">\n",
       "  <thead>\n",
       "    <tr style=\"text-align: right;\">\n",
       "      <th></th>\n",
       "      <th>Type</th>\n",
       "      <th>Message</th>\n",
       "      <th>length</th>\n",
       "    </tr>\n",
       "  </thead>\n",
       "  <tbody>\n",
       "    <tr>\n",
       "      <th>0</th>\n",
       "      <td>ham</td>\n",
       "      <td>Go until jurong point, crazy.. Available only ...</td>\n",
       "      <td>111</td>\n",
       "    </tr>\n",
       "    <tr>\n",
       "      <th>1</th>\n",
       "      <td>ham</td>\n",
       "      <td>Ok lar... Joking wif u oni...</td>\n",
       "      <td>29</td>\n",
       "    </tr>\n",
       "    <tr>\n",
       "      <th>2</th>\n",
       "      <td>spam</td>\n",
       "      <td>Free entry in 2 a wkly comp to win FA Cup fina...</td>\n",
       "      <td>155</td>\n",
       "    </tr>\n",
       "    <tr>\n",
       "      <th>3</th>\n",
       "      <td>ham</td>\n",
       "      <td>U dun say so early hor... U c already then say...</td>\n",
       "      <td>49</td>\n",
       "    </tr>\n",
       "    <tr>\n",
       "      <th>4</th>\n",
       "      <td>ham</td>\n",
       "      <td>Nah I don't think he goes to usf, he lives aro...</td>\n",
       "      <td>61</td>\n",
       "    </tr>\n",
       "  </tbody>\n",
       "</table>\n",
       "</div>"
      ],
      "text/plain": [
       "   Type                                            Message  length\n",
       "0   ham  Go until jurong point, crazy.. Available only ...     111\n",
       "1   ham                      Ok lar... Joking wif u oni...      29\n",
       "2  spam  Free entry in 2 a wkly comp to win FA Cup fina...     155\n",
       "3   ham  U dun say so early hor... U c already then say...      49\n",
       "4   ham  Nah I don't think he goes to usf, he lives aro...      61"
      ]
     },
     "execution_count": 6,
     "metadata": {},
     "output_type": "execute_result"
    }
   ],
   "source": [
    "df['length']=df['Message'].apply(len)\n",
    "df.head()"
   ]
  },
  {
   "cell_type": "markdown",
   "id": "35b23189",
   "metadata": {},
   "source": [
    "# Let us first start with data visualization"
   ]
  },
  {
   "cell_type": "code",
   "execution_count": 7,
   "id": "1a232723",
   "metadata": {},
   "outputs": [],
   "source": [
    "import seaborn as sns\n",
    "%matplotlib inline"
   ]
  },
  {
   "cell_type": "code",
   "execution_count": 8,
   "id": "d4c46cd1",
   "metadata": {},
   "outputs": [
    {
     "data": {
      "text/plain": [
       "<AxesSubplot:ylabel='Frequency'>"
      ]
     },
     "execution_count": 8,
     "metadata": {},
     "output_type": "execute_result"
    },
    {
     "data": {
      "image/png": "[encoded data removed]",
      "text/plain": [
       "<Figure size 432x288 with 1 Axes>"
      ]
     },
     "metadata": {
      "needs_background": "light"
     },
     "output_type": "display_data"
    }
   ],
   "source": [
    "df['length'].plot(bins=50,kind='hist')"
   ]
  },
  {
   "cell_type": "code",
   "execution_count": 9,
   "id": "7093419f",
   "metadata": {},
   "outputs": [
    {
     "data": {
      "text/plain": [
       "count    656.000000\n",
       "mean      78.175305\n",
       "std       55.969796\n",
       "min        2.000000\n",
       "25%       36.000000\n",
       "50%       60.500000\n",
       "75%      114.000000\n",
       "max      588.000000\n",
       "Name: length, dtype: float64"
      ]
     },
     "execution_count": 9,
     "metadata": {},
     "output_type": "execute_result"
    }
   ],
   "source": [
    "df.length.describe()"
   ]
  },
  {
   "cell_type": "markdown",
   "id": "98f828f2",
   "metadata": {},
   "source": [
    "The maximum length of the message is 588 characters. Let us see what is in the message"
   ]
  },
  {
   "cell_type": "code",
   "execution_count": 10,
   "id": "879bdbe2",
   "metadata": {},
   "outputs": [
    {
     "data": {
      "text/plain": [
       "\"Sad story of a Man - Last week was my b'day. My Wife did'nt wish me. My Parents forgot n so did my Kids . I went to work. Even my Colleagues did not wish. As I entered my cabin my PA said, '' Happy B'day Boss !!''. I felt special. She askd me 4 lunch. After lunch she invited me to her apartment. We went there. She said,'' do u mind if I go into the bedroom for a minute ? '' ''OK'', I sed in a sexy mood. She came out 5 minuts latr wid a cake...n My Wife, My Parents, My Kidz, My Friends n My Colleagues. All screaming.. SURPRISE !! and I was waiting on the sofa.. ... ..... ' NAKED...!\""
      ]
     },
     "execution_count": 10,
     "metadata": {},
     "output_type": "execute_result"
    }
   ],
   "source": [
    "df[df['length']==588]['Message'].iloc[0]"
   ]
  },
  {
   "cell_type": "code",
   "execution_count": 11,
   "id": "198edf05",
   "metadata": {},
   "outputs": [
    {
     "data": {
      "text/plain": [
       "<AxesSubplot:ylabel='Type'>"
      ]
     },
     "execution_count": 11,
     "metadata": {},
     "output_type": "execute_result"
    },
    {
     "data": {
      "image/png": "[encoded data removed]",
      "text/plain": [
       "<Figure size 576x720 with 1 Axes>"
      ]
     },
     "metadata": {},
     "output_type": "display_data"
    }
   ],
   "source": [
    "plt.rcParams[\"figure.figsize\"] = [8,10] \n",
    "df.Type.value_counts().plot(kind='pie', autopct='%1.0f%%')"
   ]
  },
  {
   "cell_type": "code",
   "execution_count": 12,
   "id": "8dcb90ac",
   "metadata": {},
   "outputs": [],
   "source": [
    "##### creates a list which contains number of words in ham messages\n",
    "##### and their count of occurrence in the dataset\n",
    "\n",
    "df_ham = df[df['Type'] == \"ham\"]\n",
    "df_ham_count = df_ham['Message'].str.split().str.len()\n",
    "df_ham_count.index = df_ham_count.index.astype(str) + ' words:'\n",
    "df_ham_count.sort_index(inplace=True)\n",
    "\n",
    "\n",
    "##### Similarly create a list which contains number of words in spam \n",
    "##### messages and their count of occurrence in the dataset\n",
    "\n",
    "df_spam = df[df['Type'] == \"spam\"]\n",
    "df_spam_count = df_spam['Message'].str.split().str.len()\n",
    "df_spam_count.index = df_spam_count.index.astype(str) + ' words:'\n",
    "df_spam_count.sort_index(inplace=True)\n"
   ]
  },
  {
   "cell_type": "code",
   "execution_count": 13,
   "id": "702f2769",
   "metadata": {},
   "outputs": [
    {
     "data": {
      "image/png": "[encoded data removed]",
      "text/plain": [
       "<Figure size 576x720 with 1 Axes>"
      ]
     },
     "metadata": {
      "needs_background": "light"
     },
     "output_type": "display_data"
    }
   ],
   "source": [
    "###  plots histogram using the spam and ham message list that was created\n",
    "\n",
    "bins = np.linspace(0, 50, 10)\n",
    "\n",
    "plt.hist([df_ham_count, df_spam_count], bins, label=['ham', 'spam'])\n",
    "plt.legend(loc='upper right')\n",
    "plt.show()"
   ]
  },
  {
   "cell_type": "markdown",
   "id": "2a42d3ee",
   "metadata": {},
   "source": [
    "We now return to text Pre-processing, where we first clean the data. Afterwards we use the bag-of-words approach, where each word in a text will be represented by one number. The we compute the tf-idf score"
   ]
  },
  {
   "cell_type": "code",
   "execution_count": 14,
   "id": "67c65046",
   "metadata": {},
   "outputs": [
    {
     "name": "stderr",
     "output_type": "stream",
     "text": [
      "[nltk_data] Downloading package stopwords to C:\\Users\\Arjun\n",
      "[nltk_data]     Vankani\\AppData\\Roaming\\nltk_data...\n",
      "[nltk_data]   Unzipping corpora\\stopwords.zip.\n"
     ]
    },
    {
     "data": {
      "text/plain": [
       "True"
      ]
     },
     "execution_count": 14,
     "metadata": {},
     "output_type": "execute_result"
    }
   ],
   "source": [
    "nltk.download('stopwords')"
   ]
  },
  {
   "cell_type": "code",
   "execution_count": 15,
   "id": "1df08fb0",
   "metadata": {},
   "outputs": [
    {
     "ename": "NameError",
     "evalue": "name 'stopwords' is not defined",
     "output_type": "error",
     "traceback": [
      "\u001b[1;31m---------------------------------------------------------------------------\u001b[0m",
      "\u001b[1;31mNameError\u001b[0m                                 Traceback (most recent call last)",
      "\u001b[1;32mC:\\Users\\ARJUNV~1\\AppData\\Local\\Temp/ipykernel_15648/337956332.py\u001b[0m in \u001b[0;36m<module>\u001b[1;34m\u001b[0m\n\u001b[1;32m----> 1\u001b[1;33m \u001b[0mstops\u001b[0m \u001b[1;33m=\u001b[0m \u001b[0mset\u001b[0m\u001b[1;33m(\u001b[0m\u001b[0mstopwords\u001b[0m\u001b[1;33m.\u001b[0m\u001b[0mwords\u001b[0m\u001b[1;33m(\u001b[0m\u001b[1;34m'english'\u001b[0m\u001b[1;33m)\u001b[0m\u001b[1;33m)\u001b[0m\u001b[1;33m\u001b[0m\u001b[1;33m\u001b[0m\u001b[0m\n\u001b[0m\u001b[0;32m      2\u001b[0m \u001b[0mprint\u001b[0m\u001b[1;33m(\u001b[0m\u001b[0mstops\u001b[0m\u001b[1;33m)\u001b[0m\u001b[1;33m\u001b[0m\u001b[1;33m\u001b[0m\u001b[0m\n",
      "\u001b[1;31mNameError\u001b[0m: name 'stopwords' is not defined"
     ]
    }
   ],
   "source": [
    "stops = set(stopwords.words('english'))\n",
    "print(stops)"
   ]
  },
  {
   "cell_type": "code",
   "execution_count": 16,
   "id": "ddbaf000",
   "metadata": {},
   "outputs": [],
   "source": [
    "# remove stopwords\n",
    "from nltk.corpus import stopwords \n",
    "import string\n",
    "\n",
    "STOPWORDS = set(stopwords.words('english'))\n",
    "def remove_stopwords(text):\n",
    "    return \" \".join([word for word in str(text).split() if word not in STOPWORDS])"
   ]
  },
  {
   "cell_type": "code",
   "execution_count": 17,
   "id": "7f6a5617",
   "metadata": {},
   "outputs": [],
   "source": [
    "def text_preprocess(sen): \n",
    "\n",
    "    sen = re.sub('[^a-zA-Z]', ' ', sen)  # Remove punctuations and numbers \n",
    "\n",
    "    sen = re.sub(r\"\\s+[a-zA-Z]\\s+\", ' ', sen) # Single character removal \n",
    "\n",
    "    sen = re.sub(r'\\s+', ' ', sen) #remove extra spaces from the data\n",
    "    \n",
    "    sen = remove_stopwords(sen) # remove stopwords\n",
    "    return sen"
   ]
  },
  {
   "cell_type": "code",
   "execution_count": 18,
   "id": "9c8a87f1",
   "metadata": {},
   "outputs": [],
   "source": [
    "X = df[\"Message\"].str.lower()  \n",
    " \n",
    "y = df[\"Type\"]\n",
    "\n",
    "X_messages = [] \n",
    "messages = list(X) \n",
    "\n",
    "\n",
    "for mes in messages: \n",
    "    X_messages.append(text_preprocess(mes))"
   ]
  },
  {
   "cell_type": "code",
   "execution_count": 19,
   "id": "93c6f223",
   "metadata": {},
   "outputs": [
    {
     "name": "stdout",
     "output_type": "stream",
     "text": [
      "['go jurong point crazy available bugis great world la buffet cine got amore wat', 'ok lar joking wif oni', 'free entry wkly comp win fa cup final tkts st may text fa receive entry question std txt rate c apply', 'u dun say early hor c already say', 'nah think goes usf lives around though', 'freemsg hey darling week word back like fun still tb ok xxx std chgs send rcv', 'even brother like speak treat like aids patent', 'per request melle melle oru minnaminunginte nurungu vettam set callertune callers press copy friends callertune', 'winner valued network customer selected receivea prize reward claim call claim code kl valid hours', 'mobile months r entitled update latest colour mobiles camera free call mobile update co free', 'gonna home soon want talk stuff anymore tonight cried enough today', 'six chances win cash pounds txt csh send cost day days tsandcs apply reply hl info', 'urgent week free membership prize jackpot txt word claim c www dbuk net lccltd pobox ldnw rw', 'finally match heading towards draw prediction', 'tired slept well past nights', 'easy ah sen got selected means good', 'take exam march', 'yeah think use gt atm register sure anyway help let know sure ready', 'ok prob take ur time', 'os called ubandu run without installing hard disk use os copy important files system give repair shop', 'sorry call later', 'u say leh course nothing happen lar say romantic jus bit lor thk nite scenery nice leh', 'new mobiles must go txt nokia collect today www tc biz optout gbp mtmsg', 'would really appreciate call need someone talk', 'meet ur dream partner soon ur career flyng start find free txt horo followed ur star sign g horo aries', 'hey company elama po mudyadhu', 'life strict teacher bcoz teacher teaches lesson amp conducts exam life first conducts exam amp teaches lessons happy morning', 'dear good morning', 'get gandhipuram walk cross cut road right side lt gt street road turn first right', 'dear going rubber place', 'sorry battery died yeah', 'yes tv always available work place', 'text meet someone sexy today find date even flirt join reply name age eg sam msg recd thirtyeight pence', 'printed oh lt gt come upstairs', 'ill little closer like bus stop street', 'wil reach', 'new theory argument wins situation loses person dont argue ur friends kick amp say always correct', 'love give massages use lots baby oil fave position', 'dude go sup', 'yoyyooo know change permissions drive mac usb flash drive', 'gibbs unsold mike hussey', 'like talk pa able dont know', 'dun cut short leh dun like ah failed quite sad', 'unbelievable faglord', 'wife knew time murder exactly', 'ask princess', 'great princess thinking', 'nutter cutter ctter cttergg cttargg ctargg ctagg ie', 'ok noe busy really bored msg oso dunno wat colour choose one', 'g class early tomorrow thus trying smoke lt gt', 'superb thought grateful dont everything want means still opportunity happier tomorrow today', 'hope good week checking', 'used hope agents drop since booked things year whole boston nyc experiment', 'thursday night yeah sure thing work', 'free ringtone waiting collected simply text password mix verify get usher britney fml po box mk ppw', 'probably money worries things coming due several outstanding invoices work two three months ago', 'possible teach', 'wonder phone battery went dead tell love babe', 'lovely smell bus tobacco', 'getting worried derek taylor already assumed worst', 'hey charles sorry late reply', 'lastest stereophonics marley dizzee racal libertines strokes win nookii games flirt click themob wap bookmark text wap', 'give plus said grinule greet whenever speak', 'white fudge oreos stores', 'january male sale hot gay chat cheaper call national rate min cheap min peak stop texts call min', 'love come took long leave zaher got words ym happy see sad left miss', 'sorry hurt', 'feel nauseous pissed eat sweets week cause today planning pig dieting week hungry', 'ok lor early still project meeting', 'call da waiting call', 'could ask carlos could get anybody else chip', 'actually send reminder today wonderful weekend', 'people see msgs think iam addicted msging wrong bcoz know iam addicted sweet friends bslvyl', 'hey gave photo registered driving ah tmr wanna meet yck', 'dont talk ever ok word', 'wana see', 'way school pls send ashley number', 'shall fine avalarr hollalater', 'went attend another two rounds today still reach home', 'actually deleted old website blogging magicalsongs blogspot com', 'k wait chikku il send aftr lt gt mins', 'diet ate many slices pizza yesterday ugh always diet', 'k give kvb acc details', 'oh come ah', 'money lucky winner claim prize text money million give away ppt normal text rate box jy', 'really sorry b able friday hope find alternative hope yr term going ok', 'congratulations ore mo owo wa enjoy wish many happy moments fro wherever go', 'samus shoulders yet', 'time think need know near campus', 'dear matthew please call landline complimentary lux tenerife holiday cash await collection ppm sae cs box sk xh', 'dun wear jeans lor', 'since side fever vomitin', 'k college', 'urgent call landline complimentary tenerife holiday cash await collection sae cs box hp yf ppm', 'better made friday stuffed like pig yesterday feel bleh least writhing pain kind bleh', 'sell tons coins sell coins someone thru paypal voila money back life pockets', 'theyre lots places hospitals medical places safe', 'getting touch folks waiting company txt back name age opt enjoy community sms', 'also sorta blown couple times recently id rather text blue looking weed', 'sent scores sophas secondary application schools think thinking applying research cost also contact joke ogunrinde school one less expensive ones', 'cant wait see photos useful', 'ur cash balance currently pounds maximize ur cash send go msg cc po box tcr', 'hey booked kb sat already lessons going ah keep sat night free need meet confirm lodging', 'chk ur belovd ms dict', 'time want come', 'awesome lemme know whenever around', 'shb ok lor thanx', 'beautiful truth gravity read carefully heart feels light someone feels heavy someone leaves good night', 'also remember get dobby bowl car', 'filthy stories girls waiting', 'sorry ur msg yar lor poor thing one night tmr brand new room sleep', 'love decision feeling could decide love life would much simpler less magical', 'welp apparently retired', 'sort code acc bank natwest reply confirm sent right person', '', 'u sure take sick time', 'urgent trying contact todays draw shows prize guaranteed call land line claim valid hrs', 'watching cartoon listening music amp eve go temple amp church', 'yo chad gymnastics class wanna take site says christians class full', 'much buzy', 'better still catch let ask sell lt gt', 'sure night menu know noon menu', 'want come back beautiful necklace token heart thats give wife liking see one give dont call wait till come', 'willing go aptitude class', 'wont trying sort house ok', 'yar lor wan go horse racing today mah eat earlier lor ate chicken rice', 'haha awesome omw back', 'yup thk shop closes lor', 'account number', 'eh send wrongly lar', 'hey ad crap nite borin without ya boggy boring biatch thanx wait til nxt time il ave ya', 'ok shall talk', 'dont hesitate know second time weakness like keep notebook eat day anything changed day sure nothing', 'hey pay salary de lt gt', 'another month need chocolate weed alcohol', 'started searching get job days great potential talent', 'reckon need town eightish walk carpark', 'congrats mobile videophones call videochat wid mates play java games dload polyph music noline rentl', 'look fuckin time fuck think', 'yo guess dropped', 'carlos says mu lt gt minutes', 'office call lt gt min', 'geeee miss already know think fuck wait till next year together loving kiss', 'yun ah ubi one say wan call tomorrow call look irene ere got bus ubi cres ubi tech park ph st wkg days n', 'ugh gotta drive back sd la butt sore', 'get home', 'waaaat lololo ok next time', 'table occupied waiting tree', 'surely dont forgot come always touch', 'hi kindly give us back documents submitted loan stapati', 'dont shall buy one dear', 'oh god happy see message days', 'year many miles', 'hey cutie goes wales kinda ok like hills shit still avent killed', 'sad story man last week day wife nt wish parents forgot kids went work even colleagues wish entered cabin pa said happy day boss felt special askd lunch lunch invited apartment went said mind go bedroom minute ok sed sexy mood came minuts latr wid cake wife parents kidz friends colleagues screaming surprise waiting sofa naked', 'think go honesty road call bank tomorrow tough decisions make us great people', 'free st week nokia tone ur mob every week txt nokia get txting tell ur mates zed pobox wq norm tone', 'specialisation work slave labor look month sha cos shakara beggar', 'replying boye changed phone number', 'go write msg put dictionary mode cover screen hand press lt gt gently remove ur hand interesting', 'hi darlin im way london smashed another driver big dent im really missing xxx', 'nothing really making sure everybody speed', 'coming home dinner', 'thank way lost', 'yes good crickiting mind', 'thx well months', 'shop till drop either k cash travel voucher call ntt po box cr bt fixedline cost ppm mobile vary', 'please come imin town dontmatter urgoin outl reallyneed docd please dontplease dontignore mycalls thecd isv important tome moro', 'wont wat wit guys', 'yavnt tried yet never played original either', 'hiya good day spoken since weekend', 'see thought', 'work please call', 'get ready moan scream', 'oh got job whats', 'think need going late school night especially one class one missed last wednesday probably failed test friday', 'popping lt gt ibuprofens help', 'babe goes day sip cappuccino think love send kiss across sea', 'ok', 'ps ur grown right', 'chinatown got porridge claypot rice yam cake fishhead beehoon either eat cheap den go cafe tok go nydc somethin', 'know people hit fuck yes', 'purity friendship two smiling reading forwarded message smiling seeing name gud evng', 'anything specific regards jaklin idk fuck', 'oh god gonna google nearby cliffs', 'free camera phones linerental month cross ntwk mins price txt bundle deals also avble call call optout mf', 'yup shd haf ard pages add figures got many pages', 'ooh got gonna start belly dancing moseley weds want join cafe', 'thankyou much call appreciate care', 'congrats treat pending mail days mail thru respect mother home check mails', 'called one pick phone ask already said ok', 'hi email address changed', 'v aluable ffectionate oveable ternal oble ruthful ntimate atural namous happy valentines day advance', 'much textin bout', 'bring got', 'movie call wat', 'sure stomach', 'haha dinner cousin', 'boy late home father power frndship', 'man carlos definitely coming mu tonight excuses', 'soon real thing princess make wet', 'raji pls favour pls convey birthday wishes nimya pls today birthday', 'haha legs neck killing amigos hoping end night burn think could swing like hour', 'urgent mobile xxxxxxxxx bonus caller prize nd attempt reach call asap box qp ppm', 'usually body takes care buy making sure doesnt progress pls continue talk saturday', 'urgent costa del sol holiday await collection call toclaim sae tc pobox stockport sk xh cost pm max mins', 'hmm well night night', 'wanted say holy shit guys kidding bud', 'gettin bit arty collages mo well tryin ne way got roast min lovely shall enjoy', 'one days billion classes right', 'goodmorning today late hrs back pain', 'ok let noe later ask call tmr', 'prabha soryda realy frm heart sory', 'ok waliking ard wan buy anything go ur house', 'two cartons pleased shelves', 'nice talking please dont forget pix want see', 'guaranteed cash prize claim yr prize call customer service representative pm cost p', 'really quite funny lor wat shd haf run shorter distance wat', 'notice like looking shit mirror youre turning right freak', 'great getting worried know wonderful caring person like best life know r wonderful god love', 'thanks ringtone order ref number mobile charged tone arrive please call customer services', 'prefer free days tues wed fri oso ask workin lor', 'alrite jod hows revision goin keris bin doin smidgin e way wanna cum college xx', 'belive come home', 'oh k take test', 'exact intentions', 'haha money leh later got go tuition haha looking empty slots driving lessons', 'hey thk juz go accordin wat discussed yest lor except kb sun cos nt much lesson go attend kb sat', 'k wen ur free come home also tel vikky hav sent mail also better come evening il free today aftr pm', 'nothing getting msgs dis name wit different', 'good morning plz call sir', 'room number wanna make sure knocking right door', 'si como listened plaid album quite gd new air hilarious also bought braindance comp ofstuff aphex abel hav hear u sn xxxx', 'pls tell nelson bb longer comin money expecting aint coming', 'give something drink takes vomit temp might drop unmits however let know', 'think sent text home phone cant display texts still want send number', 'every day use sleep lt gt', 'k call close', 'u buy newspapers already', 'nope wif sis lor aft bathing dog bathe looks like going rain soon', 'boo way moms making tortilla soup yummmm', 'management puzzeles', 'find way include details', 'hi ya babe u goten bout scammers getting smart though regular vodafone respond get prem rate msg subscription nos used also beware', 'back work morro half term c nite sexy passion go back chat luv dena calls minmobsmorelkpobox hp fl', 'like spoiled', 'thanks ringtone order ref number mobile charged tone arrive please call customer services', 'getting threats sales executive shifad raised complaint official message', 'hope things went well doctors reminds still need go c little thing left lounge', 'den wat schedule lk sun', 'lol enjoy role playing much', 'ok watching tv', 'lov line hurt truth mind wil tolerat bcs ur someone never comfort lie gud ni sweet dreams', 'checked heading drop stuff', 'got lots hair dresser fr china', 'sad story man last week day wife nt wish parents forgot kids went work even colleagues wish', 'ill call evening ill ideas', 'splashmobile choose gr tones wk subscrition service weekly tones costing u one credit kick back enjoy', 'show wot say could dust', 'take lt gt min', 'heard call rude chat private line cum wan pics gettin shagged text pix end send stop sam xxx', 'ok bus come soon come otherwise tomorrow', 'cant pick phone right pls send message', 'forwarded free entry weekly comp send word enter c www textcomp com', 'finish liao', 'lost pound help', 'haha think', 'u know watchin lido', 'life spend someone lifetime may meaningless moments spent someone really love means life', 'haha awesome couple times coming', 'cold dont sad dear', 'think could stop like hour roommate looking stock trip', 'telly brdget jones', 'love aathi love lot', 'hello u im bored inever thought id get bored tv tell something exciting happened anything', 'hmm bad news hype park plaza studio taken left bedrm', 'sorry call later meeting', 'r comin back dinner', 'hav almost reached call unable connect', 'waited yesterday', 'reach home safe sound liao', 'velly good yes please', 'hi wkend ok journey terrible wk good huge back log marking', 'two letters copy cos one message speak soon', 'alex knows guy sells mids south tampa think could set like', 'dont message offer', 'mobile mths update free oranges latest colour camera mobiles unlimited weekend calls call mobile upd freefone stoptx', 'hey babe doin wot nite love annie', 'remind get shall', 'romantic', 'hello damn christmas thing think decided keep mp doesnt work', 'new message please call', 'hi darlin im missin hope good time back time give call home jess xx', 'forwarded hi mailbox messaging sms alert messages matches please call back retrieve messages matches', 'draw va dont think', 'dont pick call something important tell hrishi', 'congrats year special cinema pass call suprman matrix starwars etc free bx ip pm dont miss', 'nothin comes mind help buy hanger lor ur laptop heavy', 'lt gt guess easy enough', 'make baby yo tho', 'tell friend come round til like lt gt ish', 'friendship poem dear dear r near hear dont get fear live cheer tear r always dear gud ni', 'still area restaurant ill try come back soon', 'aight work thanks', 'win year supply cds store ur choice worth enter weekly draw txt music ts cs www ldew com subs win ppmx', 'moby pub quiz win high street prize know new duchess cornwall txt first name unsub stop sp arrow', 'sleeping bags blanket paper phone details anything else', 'nokia get win free auction take part send nokia hg suite lands row jhl', 'congratulations thanks good friend xmas prize claim easy call per minute bt national rate', 'tddnewsletter emc co uk games thedailydraw dear helen dozens free games great prizeswith', 'guys', 'also chat awesome make regular unless see person', 'significant dont worry', 'cause old live high', 'waqt se pehle naseeb se zyada kisi ko kuch nahi milta zindgi wo nahi jo hum sochte hai zindgi wo hai jo ham jeetey hai', 'way office da', 'place want da', 'pain come worse time', 'ok', 'stalking', 'sorry dude dont know forgot even dan reminded sorry hope guys fun', 'ok lor', 'apps class varaya elaya', 'xmas story peace xmas msg love xmas miracle jesus hav blessed month ahead amp wish merry xmas', 'urgent mobile number bonus caller prize nd attempt reach call asap box qp ppm', 'day asked anand number', 'surfing online store offers want buy thing', 'long beach lor expected dinner', 'home way', 'fine thanks', 'happen tell truth', 'like italian food', 'weird know one point', 'aww must nearly dead well jez iscoming todo workand whilltake forever', 'tell friends plan valentines day lt url gt', 'alright see bit', 'cheers message zogtorius staring phone age deciding whether text', 'take care financial problem help', 'tell dear happen talking like alian', 'double mins txts orange price linerental motorola sonyericsson tooth free nokia free call mobileupd optout hv', 'go write msg put dictionary mode cover screen hand press lt gt gently remove ur hand interesting', 'okie', 'hi yijue meet tmr', 'posible dnt live lt gt century cm frwd thnk different', 'dint slept afternoon', 'seems unnecessarily affectionate', 'yar else thk sorts funny things', 'place man', 'download many ringtones like restrictions choose even send yr buddys txt sir', 'thats cool day', 'message free welcome new improved sex dogging club unsubscribe service reply stop msgs', 'honeybee said sweetest world god laughed amp said wait havnt met person reading msg moral even god crack jokes gm gn ge gn', 'ever easier', 'rct thnq adrian text rgds vatian', 'stop calling everyone saying might cancer throat hurts talk answering everyones calls get one call babysitting monday', 'tough', 'im gonnamissu much would say il send postcard buttheres aboutas much chance merememberin asthere ofsi breakin contract luv yaxx', 'ee msg na poortiyagi odalebeku hanumanji name hanuman bajarangabali maruti pavanaputra sankatmochan ramaduth mahaveer ee name lt gt janarige ivatte kalisidare next saturday olage ondu good news keluviri maretare inde dodda problum nalli siguviri idu matra lt gt true neglet', 'hi darlin finish pick meet text back number luv kate xxx', 'set place heart mind mind easily forgets heart always remember wish happy valentines day', 'surprised still guess right lor', 'okie wan meet bishan cos bishan driving today', 'oh ho first time use type words', 'hi darlin work get trouble ijust talked mum morning really good time last night im goin soon call', 'know serving mean', 'huh hyde park mel ah opps got confused anyway tt e best choice den juz take', 'oh gei happend tron maybe ill dl', 'free message activate free text messages replying message word free terms conditions visit www com', 'know girls always safe selfish know got pa thank good night', 'worries hope photo shoot went well spiffing fun workage', 'freezing craving ice fml', 'kay since already', 'eh sorry leh din ur msg sad already lar watching tv still office', 'yo im right yo work', 'ok darlin supose ok worry much film stuff mate babysit call xx', 'said mind go bedroom minute ok sed sexy mood came minuts latr wid cake wife', 'wake since checked stuff saw true available spaces pls call embassy send mail', 'nope juz work', 'huh fast dat means havent finished painting', 'number live', 'put party days week study lightly think need draw custom checkboxes know hardcore', 'sac score big hundred set batsman', 'send yetty number pls', 'much cost approx per month', 'ok theory test going book think may coz thought wanna go jiayin isnt free', 'contacted dating service someone know find call land line pobox tg p', 'fine give call knows wants questions', 'sorry got late start way', 'go back urself lor', 'gas station go', 'k bored come home', 'babe love covers face kisses', 'like made throw smoking friend car one time awesome', 'still checked da', 'go walmart stay', 'forgotten might couple bucks send tomorrow love ya', 'oh great disturb talk', 'reverse cheating mathematics', 'u welcome caught using broken english', 'problem baby good time talk called left message', 'sorry call later', 'oh brand', 'sorry cant take call right happens waxsto wat want come ill get medical insurance able deliver basic care currently shopping right medical insurance give til friday morning thats see major person guide right insurance', 'time coming', 'call say coming today ok tell fool like ok', 'emailed yifeng part oredi get fr', 'r sure understand wine good idea slurp', 'minimum walk miles day', 'ok problem get taxi ing tomorrow tuesday tuesday think going cinema', 'brainless baby doll vehicle sariyag drive madoke barolla', 'run away frm walk slowly amp kills care enough stop', 'sorry missed call let talk time', 'please attend phone', 'hate call didnt accept even single call mine even messaged', 'messages phone holding', 'free', 'gal boy walking park gal hold ur hand boy think would run away gal jst wana feels walking heaven prince gn', 'makes happy', 'wishing wonderful week', 'sweet heart', 'sir waiting letter', 'dude im longer pisces im aquarius', 'x course yrs messages messenger lik sending', 'think steyn surely get one wicket', 'neither sterm voice studying fine sure thing resolved tho anyway fab hols', 'garbage bags eggs jam bread hannaford wheat chex', 'pride almost lt gt years old takin money kid supposed deal stuff grownup stuff tell', 'sounds better evening im costume im sure time finish tomorrow txt end', 'birthday feb lt gt da', 'wanna gym', 'like jerk', 'awake snow', 'course make stink', 'u subscribed textcomp wkly comp st wk free question follows subsequent wks charged msg unsubscribe txt stop custcare', 'go openings room til thanksgiving without upcharge', 'guys planning coming', 'wat', 'parents kidz friends colleagues screaming surprise waiting sofa naked', 'sir hr trip bus last week another audition next wednesday think might drive time', 'thought put back box', 'home', 'one interested may business plan', 'yup paragon havent decided whether cut yet hee', 'good morning princess great day', 'guai shd haf seen naughty free today go jogging', 'aiyo cos sms neva reply wait reply lar tot havent finish ur lab wat', 'living simple loving also simple laughing simple winning tooo simple simple difficult', 'tell something thats okay', 'ok', 'hmm shall bring bottle wine keep us amused joking still bring bottle red white see tomorrow', 'ur face test lt gt select number tell ur face astrology waiting quick reply', 'hey iouri gave number wylie ryan friend', 'yep get program slacking', 'inside office still filling forms know leave', 'think mentor percent sure', 'call send girls erotic ecstacy min stop texts call nat rate', 'camera awarded sipix digital camera call fromm landline delivery within days', 'xmas reward waiting computer randomly picked loyal mobile customers receive reward call', 'trying figure suppose see couple different people week said get together set dates', 'important message final contact attempt important messages waiting customer claims dept expires call', 'hi mom might back later lt gt', 'dating two started sent text talk sport radio last week connection think coincidence', 'lol oh got friend dog', 'ok problem frm wats matter', 'k head mins see', 'konw waht rael friendship im gving yuo exmpel jsut ese tihs msg evrey splleing tihs msg wrnog bt sitll yuo raed wihtuot ayn mitsake goodnight amp nice sleep sweet dreams', 'cant pick phone right pls send message', 'want leave barely stay sane fighting constantly helping', 'current leading bid pause auction send customer care', 'free entry gr prizes wkly comp chance win latest nokia psp cash every wk txt great http www gr prizes com', 'somebody set website play hold em using eve online spacebucks', 'sunny california weather cool', 'new message call', 'make squeezed lt gt bucks dad', 'good day pray remove teeth painful maintaining stuff', 'babes hope ok shit nights sleep fell asleep knackered dreading work tonight thou upto tonight x', 'friends help us problems give stupid suggestion lands us another problem helps us forgt previous problem', 'work please call', 'gentle baby soon taking lt gt inches deep inside tight pussy', 'much fights good nite', 'ok ok ok whats ur todays plan', 'nt joking seriously told', 'watching ajith film ah', 'ooooooh forgot tell get yoville phone', 'done handed know mega shop asda counts celebration thats', 'dont know exactly could ask chechi', 'dunno lei shd driving lor cos go sch hr oni', 'want custom officer discount oh', 'necessarily respectful', 'hi hope good day better night', 'apparently bffs carly quick', 'hard true much show amp express love someone much hurt leave get seperated ud evening', 'babes think got ur brolly left english wil bring mrw luv franxx', 'hi babe thanks coming even though didnt go well wanted bed hope see soon love kisses xxx', 'gd got free ice cream oso wan', 'pls give prometazine syrup mls lt gt mins later feed', 'many days since', 'dear angry busy dear', 'yup msg tat yijue tot group mate cos meeting today mah askin leaving earlier wat mah cos mayb haf walk far', 'pub', 'first time everything', 'daddy shu shu looking u wan tell singapore wat', 'ask meeting da ge tmr nite', 'gr handle victoria island traffic plus album due', 'nite nite pocay wocay luv e thing eva promise ring morrowxxxx', 'east coast', 'get chicken broth want ramen unless know', 'slave want take pictures today bright light cell phone bright light', 'nope forgot show next week', 'really masters', 'bruce amp fowler mom car park long story', 'dont know oh hopefully month', 'hi elaine today meeting confirmed', 'ok sry knw siva tats askd', 'sorry call later', 'u horrible gal knew dat going wif yest u still come ask', 'otherwise part time job na tuition', 'oh yeah diet flew window', 'santa calling would little ones like call santa xmas eve call book time', 'didnt complete gist oh', 'er yeah sorry tell pub cafe sit come wen', 'make time tonight whenever cool text whenever around', 'paying attention', 'thanx lot ur help', 'gonna way specific', 'jesus armand really trying tell everybody find', 'wif buying tix lar', 'mode men left', 'slow using biola fne', 'youdoing later sar xxx', 'hey booked lessons sun liao', 'thank generally date brothas', 'way make sure get train worc foregate street shrub hill fun night x', 'thought get watch cos thats kind thing get th loves much', 'guaranteed award maybe even cash claim ur award call free legitimat efreefone number wat think', 'good morning repair shop reason hour', 'fine got enough bud last night least', 'back good journey let know need receipts shall tell like pendent', 'takes away money worries', 'aight pick open tonight', 'latest news police station toilet stolen cops nothing go', 'sac needs carry', 'sing hu think also important find someone female know place well preferably citizen also smart help navigate even things like choosing phone plan require guidance doubt ask especially girls', 'hello wats talks email address', 'except theres chick huge boobs', 'im wondering right', 'wishing beautiful day moment revealing even things keep smiling enjoy', 'sparkling shopping breaks per person call visit www shortbreaks org uk', 'arun transfr amt', 'sorry call later', 'hear loud scream lt gt minutes cause gyno shoving things belong', 'december mobile mths entitled update latest colour camera mobile free call mobile update co free', 'ok thk got wan come wat', 'txt call claim reward hours talk time use phone subscribe gbp mnth inc hrs stop txtstop www gamb tv', 'u goin nite', 'treasure every moment spend together', 'shall bring us bottle wine keep us amused joking bring one anyway', 'http tms widelive com index wml id ad first true c ringtone', 'get garden ready summer free selection summer bulbs seeds worth scotsman saturday stop go notxt co uk', 'urgent last weekend draw shows cash spanish holiday call claim c rstm sw ss ppm', 'ok lor', 'thought slide enough', 'yup', 'well obviously people cool college life went home', 'ok lor reaching message', 'mummy boy good bad positive negative mummy made wait hmmmm', 'dhoni luck win big title win', 'yes princess want please every night wish command', 'today sunday sunday holiday work', 'probably lt gt', 'really hope work doesnt get stressful gr day', 'seen back holby', 'shall call dear food', 'urgent trying contact last weekends draw shows prize guaranteed call claim code valid hrs pm', 'li hai bored da lecturer repeating last weeks stuff waste time', 'picking various points going yeovil motor project hours take home max easy', 'also fuck family going rhode island wherever fuck leaving alone week new bong gt', 'ofcourse also upload songs', 'per min call germany bt line per min check planettalkinstant com info text stop opt', 'k sent', 'oh thanks lot already bought eggs', 'k sent', 'u studying sch going home anyway going sch later', 'marvel mobile play official ultimate spider man game ur mobile right text spider game send free ball wallpaper', 'think rule tamilnadu tough people', 'cool shall go see go tip anyway home got something drop later lets go town tonight maybe mum take us', 'good afternoon love goes day sleep hope well boytoy think', 'yes trust buy new stuff asap try', 'sms services inclusive text credits pls goto www comuk net login qxj unsubscribe stop extra charge help comuk cm ae', 'wake gt', 'get step outta way congrats', 'love one law make happy person love way friendship one law never make ur friend feel alone alive gud night', 'private account statement shows un redeemed points call identifier code expires', 'apo mokka players', 'perhaps much easy give account identification tomorrow uni', 'wait msg lt gt min', 'told tell stupid hear wont tell anything dad called brother spoken', 'god love limit god grace measure god power boundaries may god endless blessings always ur life gud ni', 'want inside every night', 'machan go gym tomorrow wil come late goodnight', 'lol mad first woke gave', 'went project centre', 'reassuring crazy world', 'making dinner', 'yes please leave lt gt lt gt leave', 'oh okie lor go sat', 'great role model giving much really wish day miracle god reason everything must say wish knew dont looked since young still great day', 'ya referin mei ex wat ah waitin treat somebody shld rich liao gd den dun work frm tmr onwards', 'miles smiles made frm letters know difference smile ur face keeps happy even though miles away keep smiling good nyt', 'way put skip right outside front house see house pull', 'pls send company name saibaba colany', 'dont want hear anything', 'big chic common declare', 'thats cool want please', 'going join tomorrow', 'awarded sipix digital camera call landline delivery within days cs box bp yr warranty ppm p', 'want tell bad feel basically times text lately need drugs', 'private account statement shows un redeemed points call identifier code expires', 'total disappointment texted craziest shit got', 'effect irritation ignore', 'one', 'think tantrum finished yeah point', 'compliments away system side', 'happened adventuring', 'hey chief give bell get need talk royal visit st june', 'ok another number', 'know thinkin malaria relax children cant handle malaria would worse gastroenteritis takes enough replace loss temp reduce give malaria meds vomit self limiting illness means days completely stop', 'aiyah ok wat long got improve already wat', 'want explicit sex secs ring costs min gsex pobox wc xx', 'believe attached seeing every day know best get babe go teach class midnight', 'sleeping surfing', 'asked mobile chatlines inclu free mins india cust servs sed yes er got mega bill dont giv shit bailiff due days want', 'yeah jus rite', 'armand says get ass epsilon', 'u still havent got urself jacket ah', 'taking derek amp taylor walmart back time done leave mouse desk text priscilla ready', 'hi durban still number', 'ic lotta childporn cars', 'contract mobile mnths latest motorola nokia etc free double mins text orange tariffs text yes callback remove records', 'trying weekend v', 'know wot people wear shirts jumpers hat belt know cribbs', 'cool time think get', 'wen get spiritual deep great', 'safe trip nigeria wish happiness soon company share moments', 'hahaha use brain dear', 'well keep mind got enough gas one round trip barring sudden influx cash', 'yeh indians nice tho kane bit shud go drink sometime soon mite hav go da works laugh soon love pete x', 'yes texted pshew missing much', 'meant calculation lt gt units lt gt school really expensive started practicing accent important decided years dental school nmde exam', 'sorry call later', 'next lt gt hours imma flip shit', 'anything lor juz us lor', 'get dump heap mom decided come lowes boring', 'ok lor sony ericsson salesman ask shuhui say quite gd use considering', 'ard like dat lor', 'wait til least wednesday see get']\n"
     ]
    }
   ],
   "source": [
    "print(X_messages)"
   ]
  },
  {
   "cell_type": "code",
   "execution_count": 20,
   "id": "53ab9400",
   "metadata": {},
   "outputs": [],
   "source": [
    "from sklearn.feature_extraction.text import TfidfVectorizer \n",
    "\n",
    "tfidf_vec = TfidfVectorizer (max_features=2500, min_df=0.01, max_df=0.8) \n",
    "X= tfidf_vec.fit_transform(X_messages).toarray()"
   ]
  },
  {
   "cell_type": "markdown",
   "id": "b19f2eaa",
   "metadata": {},
   "source": [
    "Assume general form: (A,B) C\n",
    "\n",
    "A: Document index B: Specific word-vector index C: TFIDF score for word B in document A\n",
    "\n",
    "This is a sparse matrix. It indicates the tfidf score for all non-zero values in the word vector for each document."
   ]
  },
  {
   "cell_type": "code",
   "execution_count": 21,
   "id": "b1c6ee60",
   "metadata": {},
   "outputs": [
    {
     "name": "stdout",
     "output_type": "stream",
     "text": [
      "  (0, 124)\t0.5212767198691949\n",
      "  (0, 38)\t0.46946527042117314\n",
      "  (0, 39)\t0.5602852739662546\n",
      "  (0, 35)\t0.44040135441134426\n",
      "  (1, 75)\t1.0\n",
      "  (2, 115)\t0.5072774983965226\n",
      "  (2, 104)\t0.4780212805995937\n",
      "  (2, 129)\t0.5691785344850576\n",
      "  (2, 31)\t0.4361203856688343\n",
      "  (3, 1)\t0.4472135954999579\n",
      "  (3, 87)\t0.8944271909999159\n",
      "  (4, 109)\t1.0\n",
      "  (5, 89)\t0.3685934527912445\n",
      "  (5, 97)\t0.38857403137020013\n",
      "  (5, 53)\t0.3585197216594345\n",
      "  (5, 8)\t0.372233485588321\n",
      "  (5, 126)\t0.4087918579827129\n",
      "  (5, 43)\t0.41469267072283184\n",
      "  (5, 75)\t0.32706900768485675\n",
      "  (6, 27)\t0.5006425073585473\n",
      "  (6, 53)\t0.8656541340661101\n",
      "  (7, 32)\t1.0\n",
      "  (8, 11)\t0.27045445440831967\n",
      "  (8, 13)\t0.8610943679252341\n",
      "  (8, 83)\t0.43054718396261704\n",
      "  :\t:\n",
      "  (647, 134)\t0.7335933839680782\n",
      "  (648, 56)\t0.6566358133579728\n",
      "  (648, 84)\t0.39580096982090807\n",
      "  (648, 40)\t0.6420054523947145\n",
      "  (649, 51)\t0.6545823709037766\n",
      "  (649, 96)\t0.6206540021382274\n",
      "  (649, 11)\t0.43163703424496824\n",
      "  (650, 92)\t0.693088678223984\n",
      "  (650, 56)\t0.5154293128203808\n",
      "  (650, 40)\t0.5039451434464278\n",
      "  (651, 118)\t0.4715679108309346\n",
      "  (651, 5)\t0.46129790161925044\n",
      "  (651, 54)\t0.7515503652026418\n",
      "  (652, 15)\t0.7535004481589226\n",
      "  (652, 33)\t0.6574473930470048\n",
      "  (653, 6)\t0.47246600869244254\n",
      "  (653, 54)\t0.40700467437748\n",
      "  (653, 119)\t0.4996349171859809\n",
      "  (653, 87)\t0.48068342773138617\n",
      "  (653, 75)\t0.3611529558207679\n",
      "  (654, 54)\t0.716834542265087\n",
      "  (654, 53)\t0.6972433140702055\n",
      "  (655, 120)\t0.648623709892099\n",
      "  (655, 88)\t0.5789742167293255\n",
      "  (655, 33)\t0.4940406251802316\n"
     ]
    }
   ],
   "source": [
    "print(tfidf_vec.fit_transform(X_messages))"
   ]
  },
  {
   "cell_type": "code",
   "execution_count": 22,
   "id": "5f40dfc5",
   "metadata": {},
   "outputs": [
    {
     "name": "stdout",
     "output_type": "stream",
     "text": [
      "Shape of Sparse Matrix:  (656, 135)\n"
     ]
    }
   ],
   "source": [
    "print('Shape of Sparse Matrix: ',X.shape)"
   ]
  },
  {
   "cell_type": "code",
   "execution_count": 23,
   "id": "defe76f5",
   "metadata": {},
   "outputs": [],
   "source": [
    "from sklearn.model_selection import train_test_split \n",
    "X_train, X_test, y_train, y_test = train_test_split(X, y, test_size=0.25, random_state=42)"
   ]
  },
  {
   "cell_type": "code",
   "execution_count": 24,
   "id": "326e3f3b",
   "metadata": {},
   "outputs": [
    {
     "data": {
      "text/plain": [
       "LogisticRegression()"
      ]
     },
     "execution_count": 24,
     "metadata": {},
     "output_type": "execute_result"
    }
   ],
   "source": [
    "#Create Model for Logistic Regression\n",
    "\n",
    "model = LogisticRegression()\n",
    "model.fit(X_train,y_train)"
   ]
  },
  {
   "cell_type": "code",
   "execution_count": 25,
   "id": "d9ca5307",
   "metadata": {},
   "outputs": [],
   "source": [
    "# Create Model for Naive Bayes\n",
    "\n",
    "from sklearn.naive_bayes import MultinomialNB\n",
    "spam_detect_model = MultinomialNB().fit(X_train,y_train)"
   ]
  },
  {
   "cell_type": "code",
   "execution_count": 26,
   "id": "8cbca903",
   "metadata": {},
   "outputs": [],
   "source": [
    "#Making predictions¶\n",
    "\n",
    "predictionLR = dict()\n",
    "predictionLR[\"Logistic\"] = model.predict(X_test)\n",
    "\n",
    "predictionNB = dict()\n",
    "predictionNB[\"Naive Bayes\"] = spam_detect_model.predict(X_test)\n"
   ]
  },
  {
   "cell_type": "code",
   "execution_count": 27,
   "id": "51698a0e",
   "metadata": {},
   "outputs": [
    {
     "data": {
      "text/plain": [
       "0.8963414634146342"
      ]
     },
     "execution_count": 27,
     "metadata": {},
     "output_type": "execute_result"
    }
   ],
   "source": [
    "# Evaluate Model¶\n",
    "\n",
    "accuracy_score(y_test,predictionLR[\"Logistic\"])"
   ]
  },
  {
   "cell_type": "code",
   "execution_count": 28,
   "id": "20048e6f",
   "metadata": {},
   "outputs": [
    {
     "data": {
      "text/plain": [
       "0.9390243902439024"
      ]
     },
     "execution_count": 28,
     "metadata": {},
     "output_type": "execute_result"
    }
   ],
   "source": [
    "accuracy_score(y_test,predictionNB[\"Naive Bayes\"])"
   ]
  },
  {
   "cell_type": "code",
   "execution_count": 29,
   "id": "f7efcfbf",
   "metadata": {},
   "outputs": [
    {
     "name": "stdout",
     "output_type": "stream",
     "text": [
      "              precision    recall  f1-score   support\n",
      "\n",
      "         ham       0.90      0.99      0.94       143\n",
      "        spam       0.75      0.29      0.41        21\n",
      "\n",
      "    accuracy                           0.90       164\n",
      "   macro avg       0.83      0.64      0.68       164\n",
      "weighted avg       0.88      0.90      0.88       164\n",
      "\n"
     ]
    }
   ],
   "source": [
    "print(classification_report(y_test,predictionLR[\"Logistic\"]))"
   ]
  },
  {
   "cell_type": "code",
   "execution_count": 30,
   "id": "ea8b86f6",
   "metadata": {},
   "outputs": [
    {
     "name": "stdout",
     "output_type": "stream",
     "text": [
      "              precision    recall  f1-score   support\n",
      "\n",
      "         ham       0.93      1.00      0.97       143\n",
      "        spam       1.00      0.52      0.69        21\n",
      "\n",
      "    accuracy                           0.94       164\n",
      "   macro avg       0.97      0.76      0.83       164\n",
      "weighted avg       0.94      0.94      0.93       164\n",
      "\n"
     ]
    }
   ],
   "source": [
    "print(classification_report(y_test,predictionNB[\"Naive Bayes\"]))"
   ]
  },
  {
   "cell_type": "code",
   "execution_count": 31,
   "id": "1f8d2e09",
   "metadata": {},
   "outputs": [
    {
     "name": "stdout",
     "output_type": "stream",
     "text": [
      "[[141   2]\n",
      " [ 15   6]]\n"
     ]
    }
   ],
   "source": [
    "print(confusion_matrix(y_test,predictionLR[\"Logistic\"]))"
   ]
  },
  {
   "cell_type": "code",
   "execution_count": 32,
   "id": "da24cad9",
   "metadata": {},
   "outputs": [
    {
     "name": "stdout",
     "output_type": "stream",
     "text": [
      "[[143   0]\n",
      " [ 10  11]]\n"
     ]
    }
   ],
   "source": [
    "print(confusion_matrix(y_test,predictionNB[\"Naive Bayes\"]))"
   ]
  },
  {
   "cell_type": "code",
   "execution_count": null,
   "id": "00f7aae9",
   "metadata": {},
   "outputs": [],
   "source": []
  }
 ],
 "metadata": {
  "kernelspec": {
   "display_name": "Python 3 (ipykernel)",
   "language": "python",
   "name": "python3"
  },
  "language_info": {
   "codemirror_mode": {
    "name": "ipython",
    "version": 3
   },
   "file_extension": ".py",
   "mimetype": "text/x-python",
   "name": "python",
   "nbconvert_exporter": "python",
   "pygments_lexer": "ipython3",
   "version": "3.7.8"
  }
 },
 "nbformat": 4,
 "nbformat_minor": 5
}
