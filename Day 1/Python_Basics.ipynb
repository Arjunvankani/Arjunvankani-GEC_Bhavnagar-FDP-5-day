{
 "cells": [
  {
   "cell_type": "markdown",
   "metadata": {},
   "source": [
    "## Variables"
   ]
  },
  {
   "cell_type": "code",
   "execution_count": 1,
   "metadata": {},
   "outputs": [
    {
     "name": "stdout",
     "output_type": "stream",
     "text": [
      "<class 'int'>\n",
      "<class 'str'>\n",
      "<class 'float'>\n",
      "34\n",
      "34\n",
      "34\n",
      "11\n",
      "22\n",
      "33\n"
     ]
    }
   ],
   "source": [
    "roll=127\n",
    "name=\"pavan\"\n",
    "per=77.77\n",
    "print(type(roll))\n",
    "print(type(name))\n",
    "print(type(per))\n",
    "var1=var2=var3=34\n",
    "print(var1)\n",
    "print(var2)\n",
    "print(var3)\n",
    "v1,v2,v3=11,22,33\n",
    "print(v1)\n",
    "print(v2)\n",
    "print(v3)"
   ]
  },
  {
   "cell_type": "code",
   "execution_count": 2,
   "metadata": {},
   "outputs": [
    {
     "ename": "SyntaxError",
     "evalue": "invalid syntax (Temp/ipykernel_10196/1090503027.py, line 7)",
     "output_type": "error",
     "traceback": [
      "\u001b[1;36m  File \u001b[1;32m\"C:\\Users\\ARJUNV~1\\AppData\\Local\\Temp/ipykernel_10196/1090503027.py\"\u001b[1;36m, line \u001b[1;32m7\u001b[0m\n\u001b[1;33m    1var=45    # invalid\u001b[0m\n\u001b[1;37m       ^\u001b[0m\n\u001b[1;31mSyntaxError\u001b[0m\u001b[1;31m:\u001b[0m invalid syntax\n"
     ]
    }
   ],
   "source": [
    "# Valid or invalid Variables\n",
    "#  Variable is name given to reserved memory location \n",
    "# to store a value(int, float, complex, bytes, str etc)\n",
    "var1=12    # Valid\n",
    "var76c=56.76  # Valid\n",
    "_var7=99     # Valid\n",
    "1var=45    # invalid\n",
    "var#=\"hello\"  # invalid"
   ]
  },
  {
   "cell_type": "code",
   "execution_count": 4,
   "metadata": {},
   "outputs": [
    {
     "name": "stdout",
     "output_type": "stream",
     "text": [
      "Python is awesome\n",
      "Python isawesome\n",
      "Python is awesome\n"
     ]
    }
   ],
   "source": [
    "x=\"awesome\"\n",
    "print(\"Python is\",x)\n",
    "x=\"awesome\"\n",
    "print(\"Python is\"+x)\n",
    "print(\"Python is\"+\" \"+x)"
   ]
  },
  {
   "cell_type": "code",
   "execution_count": 5,
   "metadata": {},
   "outputs": [
    {
     "name": "stdout",
     "output_type": "stream",
     "text": [
      "python isawesome\n"
     ]
    }
   ],
   "source": [
    "# if both variables are string it will concate\n",
    "str1=\"python is\"\n",
    "str2=\"awesome\"\n",
    "str3=str1+str2\n",
    "print(str3)"
   ]
  },
  {
   "cell_type": "code",
   "execution_count": 6,
   "metadata": {},
   "outputs": [
    {
     "name": "stdout",
     "output_type": "stream",
     "text": [
      "57\n"
     ]
    }
   ],
   "source": [
    "# if both variables are int, it will add\n",
    "n1=23\n",
    "n2=34\n",
    "n3=n1+n2\n",
    "print(n3)"
   ]
  },
  {
   "cell_type": "code",
   "execution_count": 7,
   "metadata": {},
   "outputs": [
    {
     "name": "stdout",
     "output_type": "stream",
     "text": [
      "23\n"
     ]
    }
   ],
   "source": [
    "# if both variables are string it will concate\n",
    "n1=\"2\"\n",
    "n2=\"3\"\n",
    "n3=n1+n2\n",
    "print(n3)"
   ]
  },
  {
   "cell_type": "code",
   "execution_count": 9,
   "metadata": {},
   "outputs": [
    {
     "name": "stdout",
     "output_type": "stream",
     "text": [
      "<class 'int'>\n",
      "<class 'str'>\n",
      "amol23\n"
     ]
    }
   ],
   "source": [
    "# + will concate if both varibales are string\n",
    "# + will do addition if both varibales are numbers\n",
    "# if 1 variable is string and 1 variable in number,\n",
    "# TypeError will be generated\n",
    "age=23\n",
    "name=\"amol\"\n",
    "print(type(age))\n",
    "print(type(name))\n",
    "print(name+str(age))"
   ]
  },
  {
   "cell_type": "code",
   "execution_count": null,
   "metadata": {},
   "outputs": [],
   "source": [
    "# Global variable is created outside all functions \n",
    "# (normally at top)so it will be accessible to all functions\n",
    "\n",
    "# Local Variable -local variable is variable which is created \n",
    "# inside function, it will not be accessed outside the scope\n",
    "#(same function)"
   ]
  },
  {
   "cell_type": "code",
   "execution_count": 12,
   "metadata": {},
   "outputs": [
    {
     "name": "stdout",
     "output_type": "stream",
     "text": [
      "python is  awesome\n"
     ]
    }
   ],
   "source": [
    "str1=\"awesome\"  # global variable\n",
    "# create function\n",
    "def fun1():\n",
    "    print(\"python is \",str1)\n",
    "fun1()  # function Call"
   ]
  },
  {
   "cell_type": "code",
   "execution_count": 14,
   "metadata": {},
   "outputs": [
    {
     "name": "stdout",
     "output_type": "stream",
     "text": [
      "python is Awesome awesome\n"
     ]
    }
   ],
   "source": [
    "# Global Variable Scope - Entire Program\n",
    "# local Variable Scope - Inside the function\n",
    "# create function\n",
    "def fun1():\n",
    "    str1=\"awesome\" # Local variable\n",
    "fun1()  # function Call\n",
    "print(\"python is Awesome\",str1)"
   ]
  },
  {
   "cell_type": "code",
   "execution_count": 15,
   "metadata": {},
   "outputs": [
    {
     "name": "stdout",
     "output_type": "stream",
     "text": [
      "this is local variable\n"
     ]
    }
   ],
   "source": [
    "# using Global keyword we can make local variable global\n",
    "def fun3():\n",
    "    global str44\n",
    "    str44=\"this is local variable\"\n",
    "fun3()\n",
    "print(str44)"
   ]
  },
  {
   "cell_type": "code",
   "execution_count": 16,
   "metadata": {},
   "outputs": [
    {
     "name": "stdout",
     "output_type": "stream",
     "text": [
      "hello\n"
     ]
    }
   ],
   "source": [
    "# we can modify global variable from function also using global kwrd\n",
    "str66=\"hi\"\n",
    "def fun5():\n",
    "    global str66\n",
    "    str66=\"hello\"\n",
    "fun5()\n",
    "print(str66)"
   ]
  },
  {
   "cell_type": "markdown",
   "metadata": {},
   "source": [
    "## Datatypes"
   ]
  },
  {
   "cell_type": "code",
   "execution_count": 17,
   "metadata": {},
   "outputs": [],
   "source": [
    "x='this is string'  # string\n",
    "y=20            # int\n",
    "z=34.45     # float\n",
    "a=23+1j     # complex\n",
    "b=[\"apple\",\"banana\",\"grapes\"]   # list\n",
    "c=(\"apple\",\"banana\",\"grapes\")   # tuple\n",
    "d=range(6)                      # range\n",
    "e={name:\"prathamesh\",age:23}    # dict\n",
    "f={\"mango\",\"orange\",\"pineapple\"} # set"
   ]
  },
  {
   "cell_type": "code",
   "execution_count": 18,
   "metadata": {},
   "outputs": [
    {
     "data": {
      "text/plain": [
       "737653756784367842658634856883684589769347589748356794754799479479547674979475"
      ]
     },
     "execution_count": 18,
     "metadata": {},
     "output_type": "execute_result"
    }
   ],
   "source": [
    "# There is No restriction for variable for its size of data\n",
    "num=737653756784367842658634856883684589769347589748356794754799479479547674979475\n",
    "num"
   ]
  },
  {
   "cell_type": "code",
   "execution_count": 19,
   "metadata": {},
   "outputs": [
    {
     "name": "stdout",
     "output_type": "stream",
     "text": [
      "<class 'float'>\n",
      "77.94\n",
      "<class 'int'>\n",
      "77\n",
      "<class 'float'>\n",
      "77.0\n"
     ]
    }
   ],
   "source": [
    "percentage = 77.94\n",
    "print(type(percentage))\n",
    "print(percentage)\n",
    "\n",
    "nv=int(percentage)\n",
    "print(type(nv))\n",
    "print(nv)\n",
    "\n",
    "anv=float(nv)\n",
    "print(type(anv))\n",
    "print(anv)"
   ]
  },
  {
   "cell_type": "code",
   "execution_count": null,
   "metadata": {},
   "outputs": [],
   "source": [
    "## How to take input from user?\n",
    "## input()- Python 3.x and raw_input()- Python 2.x"
   ]
  },
  {
   "cell_type": "markdown",
   "metadata": {},
   "source": [
    "### Input/Output "
   ]
  },
  {
   "cell_type": "markdown",
   "metadata": {},
   "source": [
    "#### Write a simple Calculator Program using Input / output statements"
   ]
  },
  {
   "cell_type": "code",
   "execution_count": 21,
   "metadata": {},
   "outputs": [
    {
     "name": "stdout",
     "output_type": "stream",
     "text": [
      "--------------------------------\n",
      "welcome to calculator\n",
      "--------------------------------\n",
      "Enter First no:12\n",
      "Enter Second no:12\n",
      "\t1.Add\t2.Sub\t3.Mul\t4.Div\t5.Modulus\n",
      "Enter the Choice:\n",
      "1\n",
      "Addition is = 24\n"
     ]
    }
   ],
   "source": [
    "print(\"--------------------------------\")\n",
    "print(\"welcome to calculator\")\n",
    "print(\"--------------------------------\")\n",
    "print(\"Enter First no:\",end=\"\")\n",
    "fn=input()\n",
    "sn=input(\"Enter Second no:\")\n",
    "fn=int(fn)\n",
    "sn=int(sn)\n",
    "print(\"\\t1.Add\\t2.Sub\\t3.Mul\\t4.Div\\t5.Modulus\")\n",
    "print(\"Enter the Choice:\")\n",
    "choice=input()\n",
    "choice=int(choice)\n",
    "if(choice==1):\n",
    "    print(\"Addition is =\",fn+sn)\n",
    "elif(choice==2):\n",
    "    print(\"Subtraction is =\",fn-sn)\n",
    "elif(choice==3):\n",
    "    print(\"Multiplication is =\",fn*sn)\n",
    "elif(choice==4):\n",
    "    print(\"Division is =\",fn/sn)\n",
    "elif(choice==5):\n",
    "    print(\"Remainder is =\",fn%sn)\n",
    "else:\n",
    "    print(\"Invalid Choice\")"
   ]
  },
  {
   "cell_type": "code",
   "execution_count": null,
   "metadata": {},
   "outputs": [],
   "source": [
    "# default type of input taken from user is string\n",
    "no=input()\n",
    "type(no)"
   ]
  },
  {
   "cell_type": "code",
   "execution_count": 22,
   "metadata": {},
   "outputs": [
    {
     "name": "stdout",
     "output_type": "stream",
     "text": [
      "<class 'float'>\n",
      "<class 'float'>\n",
      "<class 'float'>\n",
      "35000.0\n",
      "120000.0\n",
      "-8.77e+101\n"
     ]
    }
   ],
   "source": [
    "x = 35e3\n",
    "y = 12E4\n",
    "z = -87.7e100\n",
    "print(type(x))\n",
    "print(type(y))\n",
    "print(type(z))\n",
    "print(x)\n",
    "print(y)\n",
    "print(z)"
   ]
  },
  {
   "cell_type": "code",
   "execution_count": 25,
   "metadata": {},
   "outputs": [
    {
     "name": "stdout",
     "output_type": "stream",
     "text": [
      "Package                            Version               Location\n",
      "---------------------------------- --------------------- --------------------------------------\n",
      "absl-py                            0.12.0\n",
      "affinegap                          1.11\n",
      "afinn                              0.1\n",
      "aiohttp                            3.7.4.post0\n",
      "alembic                            1.6.5\n",
      "altair                             4.1.0\n"
     ]
    },
    {
     "name": "stderr",
     "output_type": "stream",
     "text": [
      "WARNING: Ignoring invalid distribution -rotobuf (c:\\users\\arjun vankani\\appdata\\local\\programs\\python\\python37\\lib\\site-packages)\n",
      "WARNING: Ignoring invalid distribution -pencv-python (c:\\users\\arjun vankani\\appdata\\local\\programs\\python\\python37\\lib\\site-packages)\n",
      "WARNING: Ignoring invalid distribution -pencv-contrib-python (c:\\users\\arjun vankani\\appdata\\local\\programs\\python\\python37\\lib\\site-packages)\n",
      "WARNING: Ignoring invalid distribution -ip (c:\\users\\arjun vankani\\appdata\\local\\programs\\python\\python37\\lib\\site-packages)\n",
      "WARNING: Ignoring invalid distribution -illow (c:\\users\\arjun vankani\\appdata\\local\\programs\\python\\python37\\lib\\site-packages)\n",
      "WARNING: Ignoring invalid distribution -rotobuf (c:\\users\\arjun vankani\\appdata\\local\\programs\\python\\python37\\lib\\site-packages)\n",
      "WARNING: Ignoring invalid distribution -pencv-python (c:\\users\\arjun vankani\\appdata\\local\\programs\\python\\python37\\lib\\site-packages)\n",
      "WARNING: Ignoring invalid distribution -pencv-contrib-python (c:\\users\\arjun vankani\\appdata\\local\\programs\\python\\python37\\lib\\site-packages)\n",
      "WARNING: Ignoring invalid distribution -ip (c:\\users\\arjun vankani\\appdata\\local\\programs\\python\\python37\\lib\\site-packages)\n",
      "WARNING: Ignoring invalid distribution -illow (c:\\users\\arjun vankani\\appdata\\local\\programs\\python\\python37\\lib\\site-packages)\n",
      "WARNING: Ignoring invalid distribution -rotobuf (c:\\users\\arjun vankani\\appdata\\local\\programs\\python\\python37\\lib\\site-packages)\n"
     ]
    },
    {
     "name": "stdout",
     "output_type": "stream",
     "text": [
      "altgraph                           0.17\n",
      "analytics-python                   1.4.0\n",
      "aniso8601                          9.0.1\n",
      "anyio                              3.3.0\n",
      "apache-beam                        2.29.0\n",
      "apeer-ometiff-library              1.7.2\n",
      "appdirs                            1.4.4\n",
      "appnope                            0.1.0\n",
      "argcomplete                        1.12.3\n",
      "argon2-cffi                        20.1.0\n",
      "args                               0.1.0\n",
      "asgiref                            3.5.0\n",
      "astor                              0.8.1\n",
      "astunparse                         1.6.3\n",
      "async-generator                    1.10\n",
      "async-timeout                      3.0.1\n",
      "atomicwrites                       1.4.0\n",
      "attrs                              21.2.0\n",
      "audioread                          2.1.9\n",
      "autograd                           1.3\n",
      "autopy                             4.0.0\n",
      "avro-python3                       1.10.2\n",
      "awscli                             1.20.13\n",
      "Babel                              2.9.1\n",
      "backcall                           0.2.0\n",
      "backoff                            1.10.0\n",
      "backports-abc                      0.5\n",
      "backports.shutil-get-terminal-size 1.0.0\n",
      "bar-chart-race                     0.1.0\n",
      "base32hex                          1.0.2\n",
      "base58                             2.1.0\n",
      "bcrypt                             3.2.0\n",
      "beautifulsoup4                     4.8.0\n",
      "bert-for-tf2                       0.14.9\n",
      "better-profanity                   0.7.0\n",
      "bidict                             0.21.2\n",
      "bing-image-downloader              1.1.0\n",
      "bitstring                          3.1.9\n",
      "black                              21.12b0\n",
      "bleach                             3.3.0\n",
      "blender                            1.4\n",
      "blinker                            1.4\n",
      "blis                               0.7.4"
     ]
    },
    {
     "name": "stderr",
     "output_type": "stream",
     "text": [
      "WARNING: Ignoring invalid distribution -pencv-python (c:\\users\\arjun vankani\\appdata\\local\\programs\\python\\python37\\lib\\site-packages)\n",
      "WARNING: Ignoring invalid distribution -pencv-contrib-python (c:\\users\\arjun vankani\\appdata\\local\\programs\\python\\python37\\lib\\site-packages)\n",
      "WARNING: Ignoring invalid distribution -ip (c:\\users\\arjun vankani\\appdata\\local\\programs\\python\\python37\\lib\\site-packages)\n",
      "WARNING: Ignoring invalid distribution -illow (c:\\users\\arjun vankani\\appdata\\local\\programs\\python\\python37\\lib\\site-packages)\n",
      "WARNING: Ignoring invalid distribution -rotobuf (c:\\users\\arjun vankani\\appdata\\local\\programs\\python\\python37\\lib\\site-packages)\n",
      "WARNING: Ignoring invalid distribution -pencv-python (c:\\users\\arjun vankani\\appdata\\local\\programs\\python\\python37\\lib\\site-packages)\n",
      "WARNING: Ignoring invalid distribution -pencv-contrib-python (c:\\users\\arjun vankani\\appdata\\local\\programs\\python\\python37\\lib\\site-packages)\n",
      "WARNING: Ignoring invalid distribution -ip (c:\\users\\arjun vankani\\appdata\\local\\programs\\python\\python37\\lib\\site-packages)\n",
      "WARNING: Ignoring invalid distribution -illow (c:\\users\\arjun vankani\\appdata\\local\\programs\\python\\python37\\lib\\site-packages)\n",
      "WARNING: You are using pip version 21.2.3; however, version 22.0.3 is available.\n",
      "You should consider upgrading via the 'c:\\users\\arjun vankani\\appdata\\local\\programs\\python\\python37\\python.exe -m pip install --upgrade pip' command.\n"
     ]
    },
    {
     "name": "stdout",
     "output_type": "stream",
     "text": [
      "\n",
      "bm3d                               3.0.8\n",
      "boto                               2.49.0\n",
      "boto3                              1.20.26\n",
      "botocore                           1.23.26\n",
      "bottle                             0.12.19\n",
      "bpy                                2.82.1\n",
      "branca                             0.4.2\n",
      "bravado                            11.0.3\n",
      "bravado-core                       5.17.0\n",
      "breadability                       0.1.20\n",
      "Brotli                             1.0.9\n",
      "bs4                                0.0.1\n",
      "BTrees                             4.9.2\n",
      "cached-property                    1.5.2\n",
      "cachetools                         4.2.2\n",
      "calmap                             0.0.9\n",
      "catalogue                          2.0.4\n",
      "categorical-distance               1.9\n",
      "certifi                            2020.12.5\n",
      "certipy                            0.1.3\n",
      "cffi                               1.14.5\n",
      "cfgv                               3.3.0\n",
      "chardet                            3.0.4\n",
      "chart-studio                       1.1.0\n",
      "chronometry                        2020.11.12\n",
      "chumpy                             0.70\n",
      "click                              7.1.2\n",
      "click-plugins                      1.1.1\n",
      "cligj                              0.7.2\n",
      "clint                              0.5.1\n",
      "clipboard                          0.0.4\n",
      "cloudpickle                        1.6.0\n",
      "colorama                           0.4.3\n",
      "colouration                        2020.7.26\n",
      "comtypes                           1.1.10\n",
      "configparser                       5.0.2\n",
      "contextlib2                        0.6.0.post1\n",
      "cowsay                             4.0\n",
      "crayons                            0.4.0\n",
      "crcmod                             1.7\n",
      "cryptography                       3.4.7\n",
      "cssselect                          1.1.0\n",
      "cvlib                              0.2.6\n",
      "cvzone                             1.4.1\n",
      "cycler                             0.10.0\n",
      "cymem                              2.0.5\n",
      "Cython                             0.29.21\n",
      "czifile                            2019.7.2\n",
      "darknet                            0.3\n",
      "dash                               1.20.0\n",
      "dash-core-components               1.16.0\n",
      "dash-cytoscape                     0.3.0\n",
      "dash-html-components               1.1.3\n",
      "dash-renderer                      1.9.1\n",
      "dash-table                         4.11.3\n",
      "datasets                           1.17.0\n",
      "datefinder                         0.7.1\n",
      "datetime-distance                  0.1.3\n",
      "debugpy                            1.4.1\n",
      "decision-tree                      0.4\n",
      "decorator                          4.4.2\n",
      "dedupe                             2.0.8\n",
      "dedupe-hcluster                    0.3.8\n",
      "dedupe-variable-datetime           0.1.5\n",
      "defusedxml                         0.7.1\n",
      "detecto                            1.2.1\n",
      "dill                               0.3.4\n",
      "discord                            1.7.3\n",
      "discord.py                         1.7.3\n",
      "disk                               2020.11.12\n",
      "distlib                            0.3.2\n",
      "distro                             1.5.0\n",
      "dj-database-url                    0.5.0\n",
      "Django                             3.2.3\n",
      "django-crispy-forms                1.12.0\n",
      "django-heroku                      0.3.1\n",
      "dlib                               19.22.0\n",
      "dnspython                          1.16.0\n",
      "docopt                             0.6.2\n",
      "docutils                           0.15.2\n",
      "docx                               0.2.4\n",
      "docx2txt                           0.8\n",
      "dominate                           2.6.0\n",
      "DoubleMetaphone                    0.1\n",
      "easydict                           1.9\n",
      "easygui                            0.98.2\n",
      "easyocr                            1.3.2\n",
      "EasyProcess                        0.3\n",
      "EbookLib                           0.17.1\n",
      "ecdsa                              0.17.0\n",
      "editdistance                       0.5.3\n",
      "einops                             0.3.0\n",
      "email-validator                    1.1.3\n",
      "emoji                              1.4.1\n",
      "en-core-web-sm                     3.0.0\n",
      "englisttohindi                     4.1.0\n",
      "entrypoint2                        0.2.4\n",
      "entrypoints                        0.3\n",
      "enum34                             1.1.6\n",
      "esptool                            2.6\n",
      "et-xmlfile                         1.1.0\n",
      "eventlet                           0.31.0\n",
      "evernote                           1.19\n",
      "extract-msg                        0.23.1\n",
      "EZGmail                            2021.2.4\n",
      "face-recognition                   1.3.0\n",
      "face-recognition-models            0.3.0\n",
      "face-recognize                     0.2.0\n",
      "fake-useragent                     0.1.11\n",
      "fastai                             2.4\n",
      "fastapi                            0.73.0\n",
      "fastavro                           1.4.1\n",
      "fastcluster                        1.2.4\n",
      "fastcore                           1.3.20\n",
      "fastprogress                       1.0.0\n",
      "fasttext                           0.9.2\n",
      "ffmpeg                             1.4\n",
      "ffmpeg-python                      0.2.0\n",
      "ffmpy                              0.3.0\n",
      "filelock                           3.0.12\n",
      "Flask                              1.1.1\n",
      "Flask-Bcrypt                       0.7.1\n",
      "Flask-CacheBuster                  1.0.0\n",
      "Flask-Compress                     1.9.0\n",
      "Flask-Cors                         3.0.8\n",
      "Flask-Ext                          0.1\n",
      "Flask-Login                        0.5.0\n",
      "Flask-Migrate                      2.5.3\n",
      "flask-ngrok                        0.0.25\n",
      "flask-restplus                     0.13.0\n",
      "flask-restx                        0.4.0\n",
      "Flask-SocketIO                     4.2.1\n",
      "Flask-SQLAlchemy                   2.4.1\n",
      "Flask-WTF                          0.15.1\n",
      "flatbuffers                        1.12\n",
      "folium                             0.12.1\n",
      "fpdf                               1.7.2\n",
      "fsspec                             2021.11.1\n",
      "func-timeout                       4.3.5\n",
      "future                             0.18.2\n",
      "future-fstrings                    1.2.0\n",
      "futures                            3.0.2\n",
      "fuzzywuzzy                         0.18.0\n",
      "gast                               0.4.0\n",
      "GDAL                               3.3.1\n",
      "gensim                             4.0.1\n",
      "gensound                           0.5\n",
      "geographiclib                      1.50\n",
      "geopy                              2.1.0\n",
      "geos                               0.2.3\n",
      "gevent                             21.1.2\n",
      "gin                                0.1.6\n",
      "gin-config                         0.4.0\n",
      "gitdb                              4.0.7\n",
      "GitPython                          3.1.18\n",
      "google                             3.0.0\n",
      "google-api-core                    1.28.0\n",
      "google-api-python-client           2.5.0\n",
      "google-auth                        1.30.1\n",
      "google-auth-httplib2               0.1.0\n",
      "google-auth-oauthlib               0.4.4\n",
      "google-cloud-bigquery              2.17.0\n",
      "google-cloud-core                  1.6.0\n",
      "google-cloud-vision                2.6.3\n",
      "google-crc32c                      1.1.2\n",
      "google-images-download             2.8.0\n",
      "google-pasta                       0.2.0\n",
      "google-resumable-media             1.3.0\n",
      "googleapis-common-protos           1.53.0\n",
      "goslate                            1.5.1\n",
      "gradio                             2.2.14\n",
      "graphviz                           0.17\n",
      "greenlet                           1.1.0\n",
      "grpcio                             1.34.1\n",
      "gspread                            4.0.0\n",
      "gTTS                               2.2.2\n",
      "gunicorn                           20.1.0\n",
      "gym                                0.18.3\n",
      "h11                                0.13.0\n",
      "h5py                               2.10.0\n",
      "haversine                          2.5.1\n",
      "hdfs                               2.6.0\n",
      "highered                           0.2.1\n",
      "html5lib                           1.1\n",
      "httplib2                           0.19.1\n",
      "httptools                          0.3.0\n",
      "huggingface-hub                    0.2.1\n",
      "hupper                             1.10.3\n",
      "hyperopt                           0.1.2\n",
      "identify                           2.2.9\n",
      "idna                               2.10\n",
      "imageai                            2.0.1\n",
      "imagecodecs                        2021.5.20\n",
      "imageio                            2.9.0\n",
      "imageio-ffmpeg                     0.4.4\n",
      "imantics                           0.1.12\n",
      "IMAPClient                         2.1.0\n",
      "imgaug                             0.4.0\n",
      "importlib-metadata                 2.1.1\n",
      "imutils                            0.5.4\n",
      "inexactsearch                      1.0.2\n",
      "inflect                            5.3.0\n",
      "iniconfig                          1.1.1\n",
      "install                            1.3.5\n",
      "interpret                          0.2.5\n",
      "interpret-core                     0.2.5\n",
      "ipykernel                          6.1.0\n",
      "ipython                            7.25.0\n",
      "ipython-genutils                   0.2.0\n",
      "ipywidgets                         7.6.3\n",
      "isodate                            0.6.0\n",
      "itsdangerous                       2.0.1\n",
      "jaraco.context                     4.0.0\n",
      "jdcal                              1.4.1\n",
      "jedi                               0.18.0\n",
      "Jinja2                             2.11.1\n",
      "jmespath                           0.10.0\n",
      "joblib                             1.0.1\n",
      "Js2Py                              0.71\n",
      "json-tricks                        3.15.5\n",
      "json5                              0.9.6\n",
      "jsonpatch                          1.32\n",
      "jsonpointer                        2.1\n",
      "jsonref                            0.2\n",
      "jsonschema                         3.2.0\n",
      "jupyter                            1.0.0\n",
      "jupyter-client                     6.1.12\n",
      "jupyter-console                    6.4.0\n",
      "jupyter-contrib-core               0.3.3\n",
      "jupyter-core                       4.7.1\n",
      "jupyter-highlight-selected-word    0.2.0\n",
      "jupyter-latex-envs                 1.4.6\n",
      "jupyter-nbextensions-configurator  0.4.1\n",
      "jupyter-server                     1.10.2\n",
      "jupyter-telemetry                  0.1.0\n",
      "jupyterhub                         1.4.1\n",
      "jupyterlab                         2.3.2\n",
      "jupyterlab-pygments                0.1.2\n",
      "jupyterlab-server                  1.2.0\n",
      "jupyterlab-widgets                 1.0.0\n",
      "kaggle                             1.5.12\n",
      "Keras                              2.4.3\n",
      "Keras-Applications                 1.0.8\n",
      "keras-bert                         0.88.0\n",
      "keras-embed-sim                    0.9.0\n",
      "keras-layer-normalization          0.15.0\n",
      "keras-multi-head                   0.28.0\n",
      "keras-nightly                      2.5.0.dev2021032900\n",
      "keras-pos-embd                     0.12.0\n",
      "keras-position-wise-feed-forward   0.7.0\n",
      "Keras-Preprocessing                1.1.2\n",
      "keras-resnet                       0.2.0\n",
      "keras-self-attention               0.50.0\n",
      "keras-transformer                  0.39.0\n",
      "keyboard                           0.13.5\n",
      "keyring                            23.0.1\n",
      "Kivy                               2.0.0\n",
      "kivy-deps.angle                    0.3.0\n",
      "kivy-deps.glew                     0.3.0\n",
      "kivy-deps.sdl2                     0.3.1\n",
      "Kivy-Garden                        0.1.4\n",
      "kivymd                             0.104.2\n",
      "kiwisolver                         1.3.1\n",
      "labelImg                           1.8.5\n",
      "labelme2coco                       0.1.2\n",
      "langdetect                         1.0.9\n",
      "Lasagne                            0.1\n",
      "Levenshtein-search                 1.4.5\n",
      "librosa                            0.8.1\n",
      "lime                               0.2.0.1\n",
      "litereval                          0.0.11\n",
      "llvmlite                           0.32.1\n",
      "lmdb                               1.2.1\n",
      "lsHotword                          1.0.2\n",
      "lvis                               0.5.3\n",
      "lxml                               4.6.3\n",
      "lyricsgenius                       3.0.1\n",
      "Mako                               1.1.4\n",
      "Markdown                           3.3.4\n",
      "markdown2                          2.4.1\n",
      "MarkupSafe                         2.0.1\n",
      "matplot                            0.1.9\n",
      "matplotlib                         3.3.2\n",
      "matplotlib-inline                  0.1.2\n",
      "maxfw                              1.1.6\n",
      "mechanize                          0.4.5\n",
      "mediapipe                          0.8.8.1\n",
      "missingno                          0.4.2\n",
      "mistune                            0.8.4\n",
      "mitdeeplearning                    0.2.0\n",
      "mitoinstaller                      0.0.95\n",
      "mitosheet                          0.1.369\n",
      "ml-helpers                         0.0.22\n",
      "mla                                0.0.1\n",
      "mlxtend                            0.18.0\n",
      "monotonic                          1.6\n",
      "more-itertools                     8.8.0\n",
      "MouseInfo                          0.1.3\n",
      "moviepy                            1.0.3\n",
      "msgpack                            1.0.3\n",
      "mss                                6.1.0\n",
      "mtcnn                              0.1.0\n",
      "multidict                          5.1.0\n",
      "multiprocess                       0.70.12.2\n",
      "munch                              2.5.0\n",
      "murmurhash                         1.0.5\n",
      "mutagen                            1.45.1\n",
      "mypy-extensions                    0.4.3\n",
      "mysql                              0.0.2\n",
      "mysql-connector                    2.2.9\n",
      "mysql-connector-python-rf          2.2.2\n",
      "mysqlclient                        2.0.3\n",
      "nbclient                           0.5.3\n",
      "nbconvert                          5.6.1\n",
      "nbformat                           5.1.3\n",
      "neat-python                        0.92\n",
      "neologdn                           0.5.1\n",
      "neptune-client                     0.14.0\n",
      "nest-asyncio                       1.5.1\n",
      "netifaces                          0.10.6\n",
      "networkx                           2.6.3\n",
      "nibabel                            3.2.1\n",
      "nltk                               3.6.2\n",
      "nni                                2.3\n",
      "nodeenv                            1.6.0\n",
      "notebook                           6.4.7\n",
      "numba                              0.49.0\n",
      "numexpr                            2.7.3\n",
      "numpy                              1.19.5\n",
      "oauth2client                       4.1.3\n",
      "oauthlib                           3.1.0\n",
      "object-detection                   0.1\n",
      "olefile                            0.46\n",
      "opencv-contrib-python              4.5.2.54\n",
      "opencv-python                      4.5.4.58\n",
      "openpyxl                           2.6.2\n",
      "opt-einsum                         3.3.0\n",
      "p2j                                1.3.2\n",
      "packaging                          20.9\n",
      "pandas                             1.2.4\n",
      "pandasgui                          0.2.12\n",
      "pandocfilters                      1.4.3\n",
      "paramiko                           2.7.2\n",
      "params-flow                        0.8.2\n",
      "parse                              1.19.0\n",
      "parso                              0.8.2\n",
      "pascal-voc-writer                  0.1.4\n",
      "passlib                            1.7.2\n",
      "PasteDeploy                        2.1.1\n",
      "path                               16.2.0\n",
      "pathlib2                           2.3.3\n"
     ]
    },
    {
     "name": "stdout",
     "output_type": "stream",
     "text": [
      "pathos                             0.2.8\n",
      "pathspec                           0.9.0\n",
      "pathy                              0.5.2\n",
      "patsy                              0.5.1\n",
      "pdf                                2020.11.12\n",
      "pdf2image                          1.16.0\n",
      "pdfminer                           20191125\n",
      "pdfminer.six                       20201018\n",
      "pdftotree                          0.5.0\n",
      "pefile                             2021.5.24\n",
      "persistent                         4.7.0\n",
      "pexpect                            4.6.0\n",
      "phonenumbers                       8.12.27\n",
      "picklable-itertools                0.1.1\n",
      "pickleshare                        0.7.5\n",
      "Pillow                             8.4.0\n",
      "pip                                21.2.3\n",
      "pipwin                             0.5.1\n",
      "pixellib                           0.6.1\n",
      "pkginfo                            1.7.0\n",
      "plaster                            1.0\n",
      "plaster-pastedeploy                0.7\n",
      "platformdirs                       2.4.0\n",
      "playsound                          1.2.2\n",
      "plotly                             5.3.0\n",
      "plotly-geo                         1.0.0\n",
      "pluggy                             0.13.1\n",
      "plyer                              2.0.0\n",
      "pmdarima                           1.8.2\n",
      "pomegranate                        0.14.7\n",
      "pooch                              1.3.0\n",
      "pox                                0.3.0\n",
      "ppft                               1.6.6.4\n",
      "pre-commit                         2.13.0\n",
      "preshed                            3.0.5\n",
      "prettytable                        2.1.0\n",
      "proglog                            0.1.9\n",
      "progressbar                        2.5\n",
      "progressbar2                       3.53.1\n",
      "prometheus-client                  0.10.1\n",
      "prompt-toolkit                     3.0.19\n",
      "proto-plus                         1.18.1\n",
      "protobuf                           3.17.0\n",
      "psutil                             5.8.0\n",
      "psycopg2                           2.9.1\n",
      "ptyprocess                         0.6.0\n",
      "py                                 1.10.0\n",
      "py-params                          0.10.2\n",
      "py3-pinterest                      1.2.2\n",
      "pyaes                              1.6.1\n",
      "pyarrow                            6.0.1\n",
      "pyasn1                             0.4.8\n",
      "pyasn1-modules                     0.2.8\n",
      "PyAudio                            0.2.11\n",
      "PyAutoGUI                          0.9.53\n",
      "pybind11                           2.9.0\n",
      "pycaw                              20181226\n",
      "pycel                              1.0b21\n",
      "pycocotools                        2.0.2\n",
      "pycountry                          20.7.3\n",
      "pycparser                          2.20\n",
      "pycryptodome                       3.10.1\n",
      "pydantic                           1.7.4\n",
      "pydeck                             0.6.2\n",
      "pydicom                            2.1.2\n",
      "PyDictionary                       2.0.1\n",
      "pydot                              1.4.2\n",
      "pydub                              0.25.1\n",
      "pyee                               8.1.0\n",
      "pyfiglet                           0.8.post1\n",
      "pygame                             2.0.1\n",
      "PyGetWindow                        0.0.9\n",
      "pyglet                             1.5.15\n",
      "Pygments                           2.9.0\n",
      "pyhacrf-datamade                   0.2.5\n",
      "pyinstaller                        4.5.1\n",
      "pyinstaller-hooks-contrib          2021.2\n",
      "pyjokes                            0.6.0\n",
      "pyjsparser                         2.7.1\n",
      "PyJWT                              2.3.0\n",
      "PyLBFGS                            0.2.0.13\n",
      "pyloco                             0.0.139\n",
      "pymongo                            3.11.4\n",
      "PyMsgBox                           1.0.9\n",
      "PyMuPDF                            1.18.17\n",
      "PyMusic-Player                     0.0.3\n",
      "PyMySQL                            1.0.2\n",
      "PyNaCl                             1.4.0\n",
      "pynput                             1.7.3\n",
      "PyOpenGL                           3.1.5\n",
      "pyOpenSSL                          20.0.1\n",
      "pyparsing                          2.4.7\n",
      "PyPDF2                             1.26.0\n",
      "pypdfocr                           0.9.1\n",
      "pyperclip                          1.8.2\n",
      "pypiwin32                          223\n",
      "pyppdf                             0.1.2\n",
      "pyppeteer                          0.2.5\n",
      "PyPrind                            2.11.3\n",
      "pyproj                             3.1.0\n",
      "PyQt5                              5.15.4\n",
      "pyqt5-plugins                      5.15.4.2.1.0\n",
      "PyQt5-Qt5                          5.15.2\n",
      "PyQt5-sip                          12.9.0\n",
      "pyqt5-tools                        5.15.4.3.1\n",
      "PyQtWebEngine                      5.15.4\n",
      "PyQtWebEngine-Qt5                  5.15.2\n",
      "pyquery                            1.4.3\n",
      "pyramid                            2.0\n",
      "PyRect                             0.1.4\n",
      "pyrsistent                         0.17.3\n",
      "pyscreenshot                       3.0\n",
      "PyScreeze                          0.1.27\n",
      "pyserial                           3.5\n",
      "PySimpleGUI                        4.45.0\n",
      "pySmartDL                          1.3.4\n",
      "pytesseract                        0.3.7\n",
      "pytest                             6.2.4\n",
      "python-bidi                        0.4.2\n",
      "python-dateutil                    2.7.5\n",
      "python-docx                        0.8.11\n",
      "python-dotenv                      0.17.1\n",
      "python-editor                      1.0.4\n",
      "python-engineio                    4.2.0\n",
      "python-json-logger                 2.0.1\n",
      "python-pptx                        0.6.18\n",
      "python-resize-image                1.1.19\n",
      "python-slugify                     5.0.2\n",
      "python-socketio                    5.3.0\n",
      "python-utils                       2.5.6\n",
      "PythonWebHDFS                      0.2.3\n",
      "pytorch-nlp                        0.5.0\n",
      "pytorch-pretrained-bert            0.6.2\n",
      "pyttsx3                            2.90\n",
      "pytube                             10.8.4\n",
      "PyTweening                         1.0.3\n",
      "pytz                               2021.1\n",
      "pywaffle                           0.6.3\n",
      "PyWavelets                         1.1.1\n",
      "pywhatkit                          5.0\n",
      "pywin32                            300\n",
      "pywin32-ctypes                     0.2.0\n",
      "pywinpty                           1.1.1\n",
      "PyYAML                             5.4.1\n",
      "pyzmq                              17.1.2\n",
      "QDarkStyle                         3.0.2\n",
      "qt5-applications                   5.15.2.2.1\n",
      "qt5-tools                          5.15.2.1.1\n",
      "qtconsole                          5.1.0\n",
      "QtPy                               1.9.0\n",
      "ravenclaw                          2020.11.12\n",
      "rdflib                             5.0.0\n",
      "readme-renderer                    29.0\n",
      "reedsolo                           1.5.4\n",
      "regex                              2021.4.4\n",
      "reportlab                          3.6.1\n",
      "requests                           2.25.1\n",
      "requests-file                      1.5.1\n",
      "requests-html                      0.10.0\n",
      "requests-oauthlib                  1.3.0\n",
      "requests-toolbelt                  0.9.1\n",
      "requests-unixsocket                0.2.0\n",
      "resampy                            0.2.2\n",
      "responses                          0.13.4\n",
      "retrying                           1.3.3\n",
      "rfc3986                            1.5.0\n",
      "rfc3987                            1.3.8\n",
      "rlr                                2.4.5\n",
      "rsa                                4.7.2\n",
      "ruamel.yaml                        0.17.10\n",
      "ruamel.yaml.clib                   0.2.6\n",
      "s3transfer                         0.5.0\n",
      "sacremoses                         0.0.46\n",
      "SALib                              1.4.0.2\n",
      "scandir                            1.9.0\n",
      "schema                             0.7.4\n",
      "scikit-fuzzy                       0.4.2\n",
      "scikit-image                       0.18.1\n",
      "scikit-learn                       0.24.2\n",
      "scipy                              1.7.0\n",
      "seaborn                            0.11.1\n",
      "selectivesearch                    0.4\n",
      "selenium                           3.141.0\n",
      "Send2Trash                         1.8.0\n",
      "sentencepiece                      0.1.96\n",
      "setuptools                         57.1.0\n",
      "shap                               0.39.0\n",
      "Shapely                            1.7.1\n",
      "silpa-common                       0.3\n",
      "silverware                         2020.11.12\n",
      "simpleaudio                        1.0.4\n",
      "simplecosine                       1.2\n",
      "simplegeneric                      0.8.1\n",
      "simplejson                         3.17.3\n",
      "SimpleWebSocketServer              0.1.1\n",
      "singledispatch                     3.4.0.3\n",
      "six                                1.16.0\n",
      "sklearn                            0.0\n",
      "skll                               2.5.0\n",
      "skope-rules                        1.0.1\n",
      "SkPy                               0.10.4\n",
      "slicer                             0.0.7\n",
      "slytherin                          2020.11.12\n",
      "smart-open                         3.0.0\n",
      "smmap                              4.0.0\n",
      "sniffio                            1.2.0\n",
      "socketio                           0.2.1\n",
      "sortedcontainers                   2.4.0\n",
      "soundex                            1.1.3\n",
      "SoundFile                          0.10.3.post1\n",
      "soupsieve                          2.2.1\n",
      "spacy                              3.0.6\n",
      "spacy-legacy                       3.0.6\n",
      "SPARQLWrapper                      1.8.5\n",
      "SpeechRecognition                  3.8.1\n",
      "speedtest                          0.0.1\n",
      "speedtest-cli                      2.1.3\n",
      "spellchecker                       0.4\n",
      "spyder-kernels                     2.1.0\n",
      "SQLAlchemy                         1.4.19\n",
      "sqlparse                           0.4.1\n",
      "srsly                              2.4.1\n",
      "starlette                          0.17.1\n",
      "statsmodels                        0.12.2\n",
      "streamlit                          0.83.0\n",
      "strict-rfc3339                     0.7\n",
      "sumy                               0.8.1\n",
      "swagger-spec-validator             2.7.4\n",
      "tables                             3.6.1\n",
      "tabula-py                          2.2.0\n",
      "tabulate                           0.8.9\n",
      "tenacity                           8.0.0\n",
      "tensorboard                        2.5.0\n",
      "tensorboard-data-server            0.6.1\n",
      "tensorboard-plugin-wit             1.8.0\n",
      "tensorboardX                       2.2\n",
      "tensorflow                         2.5.0\n",
      "tensorflow-addons                  0.13.0\n",
      "tensorflow-docs                    0.0.0.dev0\n",
      "tensorflow-estimator               2.5.0\n",
      "tensorflow-gpu                     2.5.0\n",
      "tensornetwork                      0.4.5\n",
      "termcolor                          1.1.0\n",
      "terminado                          0.10.0\n",
      "testpath                           0.5.0\n",
      "text-unidecode                     1.3\n",
      "textblob                           0.15.3\n",
      "textract                           1.6.3\n",
      "tf-models-official                 2.5.0\n",
      "tf-slim                            1.1.0\n",
      "Theano                             1.0.5\n",
      "thinc                              8.0.5\n",
      "thop                               0.0.31.post2005241907\n",
      "threadpoolctl                      2.1.0\n",
      "tifffile                           2021.4.8\n",
      "tika                               1.24\n",
      "tkcalendar                         1.6.1\n",
      "tkcolorpicker                      1.0.1\n",
      "tkhtmlview                         0.1.0.post1\n",
      "tkPDFViewer                        0.1\n",
      "tkVideo                            0.1\n",
      "tokenizers                         0.10.3\n",
      "toml                               0.10.2\n",
      "tomli                              1.2.3\n"
     ]
    },
    {
     "name": "stdout",
     "output_type": "stream",
     "text": [
      "toolz                              0.11.1\n",
      "torch                              1.10.1\n",
      "torchfile                          0.1.0\n",
      "torchsample                        0.1.3                 c:\\users\\arjun vankani\\src\\torchsample\n",
      "torchtext                          0.11.1\n",
      "torchvision                        0.9.1\n",
      "tornado                            6.1\n",
      "tox                                3.23.1\n",
      "tqdm                               4.62.3\n",
      "traitlets                          5.0.5\n",
      "transformers                       4.11.2\n",
      "translate                          3.5.0\n",
      "translationstring                  1.4\n",
      "treeinterpreter                    0.2.3\n",
      "ttkthemes                          3.2.2\n",
      "tweepy                             4.4.0\n",
      "twine                              3.4.1\n",
      "txt                                2020.11.12\n",
      "typed-ast                          1.5.1\n",
      "typeguard                          2.12.0\n",
      "typer                              0.3.2\n",
      "typing                             3.7.4.3\n",
      "typing-extensions                  3.10.0.0\n",
      "tzlocal                            1.5.1\n",
      "uritemplate                        3.0.1\n",
      "urllib3                            1.26.4\n",
      "ushlex                             0.99.1\n",
      "uvicorn                            0.17.0.post1\n",
      "validators                         0.18.2\n",
      "venusian                           3.0.0\n",
      "virtualenv                         20.4.7\n",
      "visdom                             0.1.8.9\n",
      "visvis                             1.13.0\n",
      "voila                              0.2.10\n",
      "w3lib                              1.22.0\n",
      "Wand                               0.6.6\n",
      "wasabi                             0.8.2\n",
      "watchdog                           2.1.3\n",
      "watchgod                           0.7\n",
      "watermark                          2.2.0                 c:\\users\\arjun vankani\\src\\watermark\n",
      "wcwidth                            0.2.5\n",
      "webcolors                          1.11.1\n",
      "webdriver-manager                  3.4.2\n",
      "webencodings                       0.5.1\n",
      "WebOb                              1.8.7\n",
      "websocket-client                   1.2.3\n",
      "websockets                         10.1\n",
      "Werkzeug                           2.0.1\n",
      "wget                               3.2\n",
      "wheel                              0.36.2\n",
      "whitenoise                         5.2.0\n",
      "widgetsnbextension                 3.5.1\n",
      "wikipedia                          1.4.0\n",
      "wolframalpha                       5.0.0\n",
      "wordcloud                          1.8.1\n",
      "wrapt                              1.12.1\n",
      "WTForms                            2.3.3\n",
      "xgboost                            1.4.2\n",
      "xlrd                               1.2.0\n",
      "XlsxWriter                         1.4.3\n",
      "xlutils                            2.0.0\n",
      "xlwt                               1.3.0\n",
      "xmljson                            0.2.1\n",
      "xmltodict                          0.12.0\n",
      "xxhash                             2.0.2\n",
      "yarl                               1.6.3\n",
      "zeep                               4.1.0\n",
      "zipp                               3.5.0\n",
      "zope.deprecation                   4.4.0\n",
      "zope.event                         4.5.0\n",
      "zope.index                         5.1.0\n",
      "zope.interface                     5.4.0\n"
     ]
    }
   ],
   "source": [
    "!pip list"
   ]
  },
  {
   "cell_type": "code",
   "execution_count": 24,
   "metadata": {},
   "outputs": [
    {
     "data": {
      "text/plain": [
       "'Python is \"fantastic\"Python is \"fantastic\"Python is \"fantastic\"Python is \"fantastic\"Python is \"fantastic\"Python is \"fantastic\"Python is \"fantastic\"Python is \"fantastic\"Python is \"fantastic\"Python is \"fantastic\"Python is \"fantastic\"Python is \"fantastic\"Python is \"fantastic\"Python is \"fantastic\"Python is \"fantastic\"Python is \"fantastic\"Python is \"fantastic\"Python is \"fantastic\"Python is \"fantastic\"Python is \"fantastic\"Python is \"fantastic\"Python is \"fantastic\"Python is \"fantastic\"Python is \"fantastic\"Python is \"fantastic\"Python is \"fantastic\"Python is \"fantastic\"Python is \"fantastic\"Python is \"fantastic\"Python is \"fantastic\"Python is \"fantastic\"Python is \"fantastic\"Python is \"fantastic\"Python is \"fantastic\"Python is \"fantastic\"Python is \"fantastic\"Python is \"fantastic\"Python is \"fantastic\"Python is \"fantastic\"Python is \"fantastic\"Python is \"fantastic\"Python is \"fantastic\"Python is \"fantastic\"Python is \"fantastic\"Python is \"fantastic\"Python is \"fantastic\"Python is \"fantastic\"Python is \"fantastic\"Python is \"fantastic\"Python is \"fantastic\"Python is \"fantastic\"Python is \"fantastic\"Python is \"fantastic\"Python is \"fantastic\"Python is \"fantastic\"Python is \"fantastic\"Python is \"fantastic\"Python is \"fantastic\"Python is \"fantastic\"Python is \"fantastic\"Python is \"fantastic\"Python is \"fantastic\"Python is \"fantastic\"Python is \"fantastic\"Python is \"fantastic\"Python is \"fantastic\"Python is \"fantastic\"Python is \"fantastic\"Python is \"fantastic\"Python is \"fantastic\"Python is \"fantastic\"Python is \"fantastic\"Python is \"fantastic\"Python is \"fantastic\"Python is \"fantastic\"Python is \"fantastic\"Python is \"fantastic\"Python is \"fantastic\"Python is \"fantastic\"Python is \"fantastic\"Python is \"fantastic\"Python is \"fantastic\"Python is \"fantastic\"Python is \"fantastic\"Python is \"fantastic\"Python is \"fantastic\"Python is \"fantastic\"Python is \"fantastic\"Python is \"fantastic\"Python is \"fantastic\"Python is \"fantastic\"Python is \"fantastic\"Python is \"fantastic\"Python is \"fantastic\"Python is \"fantastic\"Python is \"fantastic\"Python is \"fantastic\"Python is \"fantastic\"Python is \"fantastic\"Python is \"fantastic\"'"
      ]
     },
     "execution_count": 24,
     "metadata": {},
     "output_type": "execute_result"
    }
   ],
   "source": [
    "name='Python is \"fantastic\"'\n",
    "# string Repeatation\n",
    "name*100"
   ]
  },
  {
   "cell_type": "code",
   "execution_count": 26,
   "metadata": {},
   "outputs": [
    {
     "data": {
      "text/plain": [
       "'esome'"
      ]
     },
     "execution_count": 26,
     "metadata": {},
     "output_type": "execute_result"
    }
   ],
   "source": [
    "# Slicing\n",
    "str2=str1[2:7]\n",
    "str2"
   ]
  },
  {
   "cell_type": "code",
   "execution_count": 27,
   "metadata": {},
   "outputs": [
    {
     "data": {
      "text/plain": [
       "'Python is \"fanta'"
      ]
     },
     "execution_count": 27,
     "metadata": {},
     "output_type": "execute_result"
    }
   ],
   "source": [
    "name[-21:-5]"
   ]
  },
  {
   "cell_type": "code",
   "execution_count": 28,
   "metadata": {},
   "outputs": [
    {
     "name": "stdout",
     "output_type": "stream",
     "text": [
      "hi i am john and my age is 36\n",
      "i have ordered 12 items, each of 10 quantities with price 35\n",
      "True\n"
     ]
    }
   ],
   "source": [
    "# format - format strings according to requirements\n",
    "age=36\n",
    "txt=\"hi i am john and my age is {}\"\n",
    "print(txt.format(age))\n",
    "q=12\n",
    "p=35\n",
    "ino=10\n",
    "order=\"i have ordered {1} items, each of {0} quantities with price {2}\"\n",
    "print(order.format(ino,q,p))\n",
    "name=\"vdf\"\n",
    "print(name.isalpha())"
   ]
  },
  {
   "cell_type": "code",
   "execution_count": 29,
   "metadata": {},
   "outputs": [
    {
     "name": "stdout",
     "output_type": "stream",
     "text": [
      "True\n",
      "True\n",
      "False\n"
     ]
    }
   ],
   "source": [
    "# boolean has two values  -True or false\n",
    "print(10>3)\n",
    "print(4<=67)\n",
    "print(5<2)"
   ]
  },
  {
   "cell_type": "code",
   "execution_count": 30,
   "metadata": {},
   "outputs": [
    {
     "name": "stdout",
     "output_type": "stream",
     "text": [
      "True\n",
      "True\n",
      "True\n",
      "False\n",
      "True\n"
     ]
    }
   ],
   "source": [
    "print(bool(-54))\n",
    "print(bool(\"hi\"))\n",
    "print(bool(\"hi ncjsdbfj\"))\n",
    "print(bool(\"\"))\n",
    "print(bool(\" \"))"
   ]
  },
  {
   "cell_type": "markdown",
   "metadata": {},
   "source": [
    "## Arrithmetic Operators"
   ]
  },
  {
   "cell_type": "code",
   "execution_count": 31,
   "metadata": {},
   "outputs": [
    {
     "name": "stdout",
     "output_type": "stream",
     "text": [
      "Enter your name:Arjun4\n",
      "Welcome Arjun4 We are learning arrithmetic operators..\n",
      "Enter Number1:45\n",
      "Enter Number2:56\n",
      "Addition is: 101\n",
      "Subtraction is: -11\n",
      "Multiplication is: 2520\n",
      "Division is: 0.8035714285714286\n",
      "Remainder is: 45\n",
      "Exponentiation is: 380102539714517509119234755043630811768952009743379517880956797171165817417204380035400390625\n",
      "Floor Division is: 0\n"
     ]
    }
   ],
   "source": [
    "name=input(\"Enter your name:\")\n",
    "print(\"Welcome \"+name+\" We are learning arrithmetic operators..\")\n",
    "num1=int(input(\"Enter Number1:\"))\n",
    "num2=int(input(\"Enter Number2:\"))\n",
    "print(\"Addition is:\",num1+num2)\n",
    "print(\"Subtraction is:\",num1-num2)\n",
    "print(\"Multiplication is:\",num1*num2)\n",
    "print(\"Division is:\",num1/num2)\n",
    "print(\"Remainder is:\",num1%num2)\n",
    "print(\"Exponentiation is:\",num1**num2)\n",
    "print(\"Floor Division is:\",num1//num2)"
   ]
  },
  {
   "cell_type": "markdown",
   "metadata": {},
   "source": [
    "### List"
   ]
  },
  {
   "cell_type": "code",
   "execution_count": 32,
   "metadata": {},
   "outputs": [
    {
     "name": "stdout",
     "output_type": "stream",
     "text": [
      "Intial blank List: \n",
      "[]\n"
     ]
    }
   ],
   "source": [
    "# Creation of List\n",
    "\t\n",
    "# Creating a List\n",
    "List = []\n",
    "print(\"Intial blank List: \")\n",
    "print(List)\n",
    "\t\n",
    "    "
   ]
  },
  {
   "cell_type": "code",
   "execution_count": 33,
   "metadata": {},
   "outputs": [
    {
     "name": "stdout",
     "output_type": "stream",
     "text": [
      "\n",
      "List with the use of String: \n",
      "['Welcome']\n"
     ]
    }
   ],
   "source": [
    "# Creating a List with\n",
    "# the use of a String\n",
    "List = ['Welcome']\n",
    "print(\"\\nList with the use of String: \")\n",
    "print(List)\n",
    "\t"
   ]
  },
  {
   "cell_type": "code",
   "execution_count": 34,
   "metadata": {},
   "outputs": [
    {
     "name": "stdout",
     "output_type": "stream",
     "text": [
      "\n",
      "List containing multiple values: \n",
      "Welcome\n",
      "Python\n"
     ]
    }
   ],
   "source": [
    "# Creating a List with\n",
    "# the use of multiple values\n",
    "List = [\"Welcome\", \"To\", \"Python\"]\n",
    "print(\"\\nList containing multiple values: \")\n",
    "print(List[0])\n",
    "print(List[2])\n",
    "\t"
   ]
  },
  {
   "cell_type": "code",
   "execution_count": 35,
   "metadata": {},
   "outputs": [
    {
     "name": "stdout",
     "output_type": "stream",
     "text": [
      "\n",
      "Multi-Dimensional List: \n",
      "[['Welcome', 'To'], ['Python']]\n"
     ]
    }
   ],
   "source": [
    "# Creating a Multi-Dimensional List\n",
    "# (By Nesting a list inside a List)\n",
    "List = [['Welcome', 'To'], ['Python']]\n",
    "print(\"\\nMulti-Dimensional List: \")\n",
    "print(List)"
   ]
  },
  {
   "cell_type": "code",
   "execution_count": 36,
   "metadata": {},
   "outputs": [
    {
     "name": "stdout",
     "output_type": "stream",
     "text": [
      "String with the use of Single Quotes: \n",
      "Welcome to Python World\n",
      "\n",
      "String with the use of Double Quotes: \n",
      "Welcome to Python's World\n",
      "<class 'str'>\n",
      "\n",
      "String with the use of Triple Quotes: \n",
      "Welcome to the World of \"Python\"\n",
      "<class 'str'>\n",
      "\n",
      "Creating a multiline String: \n",
      "Welcome  \n",
      "            To \n",
      "            Python\n"
     ]
    }
   ],
   "source": [
    "String1 = 'Welcome to Python World'\n",
    "print(\"String with the use of Single Quotes: \") \n",
    "print(String1) \n",
    "    \n",
    "# Creating a String \n",
    "# with double Quotes \n",
    "String1 = \"Welcome to Python's World\"\n",
    "print(\"\\nString with the use of Double Quotes: \") \n",
    "print(String1) \n",
    "print(type(String1))\n",
    "    \n",
    "# Creating a String \n",
    "# with triple Quotes \n",
    "String1 = '''Welcome to the World of \"Python\"'''\n",
    "print(\"\\nString with the use of Triple Quotes: \") \n",
    "print(String1) \n",
    "print(type(String1))\n",
    "  \n",
    "# Creating String with triple \n",
    "# Quotes allows multiple lines \n",
    "String1 = '''Welcome  \n",
    "            To \n",
    "            Python'''\n",
    "print(\"\\nCreating a multiline String: \") \n",
    "print(String1)"
   ]
  },
  {
   "cell_type": "markdown",
   "metadata": {},
   "source": [
    "### Conditional Statements"
   ]
  },
  {
   "cell_type": "code",
   "execution_count": 37,
   "metadata": {},
   "outputs": [
    {
     "name": "stdout",
     "output_type": "stream",
     "text": [
      "b is greater than a\n"
     ]
    }
   ],
   "source": [
    "# Condition with if statement\n",
    "a = 33\n",
    "b = 200\n",
    "if b > a:\n",
    "  print(\"b is greater than a\")"
   ]
  },
  {
   "cell_type": "code",
   "execution_count": 38,
   "metadata": {},
   "outputs": [
    {
     "name": "stdout",
     "output_type": "stream",
     "text": [
      "a and b are equal\n"
     ]
    }
   ],
   "source": [
    "# elif statement\n",
    "a = 33\n",
    "b = 33\n",
    "if b > a:\n",
    "  print(\"b is greater than a\")\n",
    "elif a == b:\n",
    "  print(\"a and b are equal\")"
   ]
  },
  {
   "cell_type": "code",
   "execution_count": 39,
   "metadata": {},
   "outputs": [
    {
     "name": "stdout",
     "output_type": "stream",
     "text": [
      "a is greater than b\n"
     ]
    }
   ],
   "source": [
    "# Else statement\n",
    "a = 200\n",
    "b = 33\n",
    "if b > a:\n",
    "  print(\"b is greater than a\")\n",
    "elif a == b:\n",
    "  print(\"a and b are equal\")\n",
    "else:\n",
    "  print(\"a is greater than b\")"
   ]
  },
  {
   "cell_type": "code",
   "execution_count": 40,
   "metadata": {},
   "outputs": [
    {
     "name": "stdout",
     "output_type": "stream",
     "text": [
      "b is not greater than a\n"
     ]
    }
   ],
   "source": [
    "# Else without elif \n",
    "a = 200\n",
    "b = 33\n",
    "if b > a:\n",
    "  print(\"b is greater than a\")\n",
    "else:\n",
    "  print(\"b is not greater than a\")"
   ]
  },
  {
   "cell_type": "code",
   "execution_count": 41,
   "metadata": {},
   "outputs": [
    {
     "name": "stdout",
     "output_type": "stream",
     "text": [
      "a is greater than b\n"
     ]
    }
   ],
   "source": [
    "# If\n",
    "a = 200\n",
    "b = 33\n",
    "\n",
    "if a > b: print(\"a is greater than b\")"
   ]
  },
  {
   "cell_type": "code",
   "execution_count": 42,
   "metadata": {},
   "outputs": [
    {
     "name": "stdout",
     "output_type": "stream",
     "text": [
      "B\n"
     ]
    }
   ],
   "source": [
    "# If ... Else\n",
    "a = 2\n",
    "b = 330\n",
    "\n",
    "print(\"A\") if a > b else print(\"B\")"
   ]
  },
  {
   "cell_type": "markdown",
   "metadata": {},
   "source": [
    "### Loops"
   ]
  },
  {
   "cell_type": "code",
   "execution_count": 43,
   "metadata": {},
   "outputs": [
    {
     "name": "stdout",
     "output_type": "stream",
     "text": [
      "apple\n",
      "banana\n",
      "cherry\n"
     ]
    }
   ],
   "source": [
    "# for Loop\n",
    "fruits = [\"apple\", \"banana\", \"cherry\"]\n",
    "for x in fruits:\n",
    "  print(x)"
   ]
  },
  {
   "cell_type": "code",
   "execution_count": 44,
   "metadata": {},
   "outputs": [
    {
     "name": "stdout",
     "output_type": "stream",
     "text": [
      "b\n",
      "a\n",
      "n\n",
      "a\n",
      "n\n",
      "a\n"
     ]
    }
   ],
   "source": [
    "# loop through string\n",
    "for x in \"banana\":\n",
    "  print(x)"
   ]
  },
  {
   "cell_type": "code",
   "execution_count": 45,
   "metadata": {},
   "outputs": [
    {
     "name": "stdout",
     "output_type": "stream",
     "text": [
      "apple\n",
      "banana\n"
     ]
    }
   ],
   "source": [
    "# Break\n",
    "\n",
    "fruits = [\"apple\", \"banana\", \"cherry\"]\n",
    "for x in fruits:\n",
    "  print(x) \n",
    "  if x == \"banana\":\n",
    "    break"
   ]
  },
  {
   "cell_type": "code",
   "execution_count": 46,
   "metadata": {},
   "outputs": [
    {
     "name": "stdout",
     "output_type": "stream",
     "text": [
      "apple\n",
      "cherry\n"
     ]
    }
   ],
   "source": [
    "# Continue\n",
    "\n",
    "fruits = [\"apple\", \"banana\", \"cherry\"]\n",
    "for x in fruits:\n",
    "  if x == \"banana\":\n",
    "    continue\n",
    "  print(x)"
   ]
  },
  {
   "cell_type": "code",
   "execution_count": 47,
   "metadata": {},
   "outputs": [
    {
     "name": "stdout",
     "output_type": "stream",
     "text": [
      "0\n",
      "1\n",
      "2\n",
      "3\n",
      "4\n",
      "5\n"
     ]
    }
   ],
   "source": [
    "# Range function\n",
    "\n",
    "for x in range(6):\n",
    "  print(x)"
   ]
  },
  {
   "cell_type": "code",
   "execution_count": 48,
   "metadata": {},
   "outputs": [
    {
     "name": "stdout",
     "output_type": "stream",
     "text": [
      "0\n",
      "1\n",
      "2\n",
      "3\n",
      "4\n",
      "5\n",
      "Finally finished!\n"
     ]
    }
   ],
   "source": [
    "# else in for loop\n",
    "\n",
    "for x in range(6):\n",
    "  print(x)\n",
    "else:\n",
    "  print(\"Finally finished!\")"
   ]
  },
  {
   "cell_type": "code",
   "execution_count": 49,
   "metadata": {},
   "outputs": [
    {
     "name": "stdout",
     "output_type": "stream",
     "text": [
      "red apple\n",
      "red banana\n",
      "red cherry\n",
      "big apple\n",
      "big banana\n",
      "big cherry\n",
      "tasty apple\n",
      "tasty banana\n",
      "tasty cherry\n"
     ]
    }
   ],
   "source": [
    "# Nested Loop\n",
    "\n",
    "adj = [\"red\", \"big\", \"tasty\"]\n",
    "fruits = [\"apple\", \"banana\", \"cherry\"]\n",
    "\n",
    "for x in adj:\n",
    "  for y in fruits:\n",
    "    print(x, y)"
   ]
  },
  {
   "cell_type": "code",
   "execution_count": 50,
   "metadata": {},
   "outputs": [],
   "source": [
    "# Pass Statement\n",
    "\n",
    "for x in [0, 1, 2]:\n",
    "  pass"
   ]
  },
  {
   "cell_type": "markdown",
   "metadata": {},
   "source": [
    "### Packages in Python"
   ]
  },
  {
   "cell_type": "code",
   "execution_count": 51,
   "metadata": {},
   "outputs": [
    {
     "name": "stdout",
     "output_type": "stream",
     "text": [
      "Note: you may need to restart the kernel to use updated packages.\n"
     ]
    },
    {
     "name": "stderr",
     "output_type": "stream",
     "text": [
      "'c:\\users\\arjun' is not recognized as an internal or external command,\n",
      "operable program or batch file.\n"
     ]
    }
   ],
   "source": [
    "pip list"
   ]
  },
  {
   "cell_type": "code",
   "execution_count": 52,
   "metadata": {},
   "outputs": [
    {
     "name": "stdout",
     "output_type": "stream",
     "text": [
      "^C\n"
     ]
    }
   ],
   "source": [
    "# Install new packages in python\n",
    "!pip install numpy"
   ]
  },
  {
   "cell_type": "code",
   "execution_count": 53,
   "metadata": {},
   "outputs": [
    {
     "name": "stdout",
     "output_type": "stream",
     "text": [
      "^C\n"
     ]
    }
   ],
   "source": [
    "# Remove packages in python\n",
    "!pip remove numpy"
   ]
  },
  {
   "cell_type": "code",
   "execution_count": 4,
   "metadata": {},
   "outputs": [
    {
     "name": "stdout",
     "output_type": "stream",
     "text": [
      "Name: numpy\n",
      "Version: 1.19.5\n",
      "Summary: NumPy is the fundamental package for array computing with Python.\n",
      "Home-page: https://www.numpy.org\n",
      "Author: Travis E. Oliphant et al.\n",
      "Author-email: None\n",
      "License: BSD\n",
      "Location: c:\\users\\administrator\\anaconda3\\lib\\site-packages\n",
      "Requires: \n",
      "Required-by: tensorflow, tensorboard, tables, statsmodels, seaborn, scikit-learn, PyWavelets, pytest-doctestplus, pytest-arraydiff, pyclustering, patsy, pandas, opt-einsum, opencv-python, numexpr, numba, mkl-random, mkl-fft, matplotlib, Keras, Keras-Preprocessing, imageio, h5py, Bottleneck, bokeh, bkcharts, astropy\n"
     ]
    }
   ],
   "source": [
    "# Show Info of packages in python\n",
    "!pip show numpy"
   ]
  },
  {
   "cell_type": "code",
   "execution_count": null,
   "metadata": {},
   "outputs": [],
   "source": []
  }
 ],
 "metadata": {
  "kernelspec": {
   "display_name": "Python 3 (ipykernel)",
   "language": "python",
   "name": "python3"
  },
  "language_info": {
   "codemirror_mode": {
    "name": "ipython",
    "version": 3
   },
   "file_extension": ".py",
   "mimetype": "text/x-python",
   "name": "python",
   "nbconvert_exporter": "python",
   "pygments_lexer": "ipython3",
   "version": "3.7.8"
  }
 },
 "nbformat": 4,
 "nbformat_minor": 2
}
