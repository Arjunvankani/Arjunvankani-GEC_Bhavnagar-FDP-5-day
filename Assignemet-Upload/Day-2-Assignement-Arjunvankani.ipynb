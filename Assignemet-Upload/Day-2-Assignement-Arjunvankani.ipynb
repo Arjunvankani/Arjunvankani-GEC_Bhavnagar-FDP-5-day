{
 "cells": [
  {
   "cell_type": "markdown",
   "id": "768d5733",
   "metadata": {},
   "source": [
    "# Take home Assignment"
   ]
  },
  {
   "cell_type": "markdown",
   "id": "8e7a3307",
   "metadata": {},
   "source": [
    "We have solved before a problem, where we had implemented linear regression with one feature and one target. \n",
    "\n",
    "However, in the real world, most machine learning problems require us to work with more than one feature.\n",
    "\n",
    "We will now consider the home loan approval dataset, where we will calculate an individual’s home loan eligibility, depending not only on the age of the person but also on the credit rating and other features.\n",
    "\n",
    "Therefore in order to determine  whether or not a person should be eligible for a home loan, you’ll have to collect multiple features, such as age, income, credit rating, number of dependents, etc.\n",
    "\n",
    "You have to work on this multiple regression"
   ]
  },
  {
   "cell_type": "markdown",
   "id": "3cb05afa",
   "metadata": {},
   "source": [
    "# Step 1: Import necessary libraries"
   ]
  },
  {
   "cell_type": "code",
   "execution_count": 2,
   "id": "470ace7b",
   "metadata": {},
   "outputs": [],
   "source": [
    "import numpy as np     \n",
    "import pandas as pd\n",
    "import matplotlib.pyplot as plt                                                 \n",
    "from sklearn import datasets, linear_model ,\n",
    "from sklearn.metrics import mean_squared_error, r2_score, mean_absolute_error       "
   ]
  },
  {
   "cell_type": "markdown",
   "id": "0de698db",
   "metadata": {},
   "source": [
    "# Step 2: Reading the dataset"
   ]
  },
  {
   "cell_type": "code",
   "execution_count": 3,
   "id": "d6a2855e",
   "metadata": {},
   "outputs": [
    {
     "data": {
      "text/html": [
       "<div>\n",
       "<style scoped>\n",
       "    .dataframe tbody tr th:only-of-type {\n",
       "        vertical-align: middle;\n",
       "    }\n",
       "\n",
       "    .dataframe tbody tr th {\n",
       "        vertical-align: top;\n",
       "    }\n",
       "\n",
       "    .dataframe thead th {\n",
       "        text-align: right;\n",
       "    }\n",
       "</style>\n",
       "<table border=\"1\" class=\"dataframe\">\n",
       "  <thead>\n",
       "    <tr style=\"text-align: right;\">\n",
       "      <th></th>\n",
       "      <th>age</th>\n",
       "      <th>credit-rating</th>\n",
       "      <th>children</th>\n",
       "      <th>loan-approval</th>\n",
       "    </tr>\n",
       "  </thead>\n",
       "  <tbody>\n",
       "    <tr>\n",
       "      <th>0</th>\n",
       "      <td>19</td>\n",
       "      <td>27.900</td>\n",
       "      <td>0</td>\n",
       "      <td>16884.92400</td>\n",
       "    </tr>\n",
       "    <tr>\n",
       "      <th>1</th>\n",
       "      <td>18</td>\n",
       "      <td>42.130</td>\n",
       "      <td>1</td>\n",
       "      <td>1725.55230</td>\n",
       "    </tr>\n",
       "    <tr>\n",
       "      <th>2</th>\n",
       "      <td>28</td>\n",
       "      <td>33.000</td>\n",
       "      <td>3</td>\n",
       "      <td>4449.46200</td>\n",
       "    </tr>\n",
       "    <tr>\n",
       "      <th>3</th>\n",
       "      <td>33</td>\n",
       "      <td>22.705</td>\n",
       "      <td>0</td>\n",
       "      <td>21984.47061</td>\n",
       "    </tr>\n",
       "    <tr>\n",
       "      <th>4</th>\n",
       "      <td>32</td>\n",
       "      <td>28.880</td>\n",
       "      <td>0</td>\n",
       "      <td>3866.85520</td>\n",
       "    </tr>\n",
       "    <tr>\n",
       "      <th>...</th>\n",
       "      <td>...</td>\n",
       "      <td>...</td>\n",
       "      <td>...</td>\n",
       "      <td>...</td>\n",
       "    </tr>\n",
       "    <tr>\n",
       "      <th>1333</th>\n",
       "      <td>50</td>\n",
       "      <td>30.970</td>\n",
       "      <td>3</td>\n",
       "      <td>10600.54830</td>\n",
       "    </tr>\n",
       "    <tr>\n",
       "      <th>1334</th>\n",
       "      <td>18</td>\n",
       "      <td>31.920</td>\n",
       "      <td>0</td>\n",
       "      <td>2205.98080</td>\n",
       "    </tr>\n",
       "    <tr>\n",
       "      <th>1335</th>\n",
       "      <td>18</td>\n",
       "      <td>36.850</td>\n",
       "      <td>0</td>\n",
       "      <td>1629.83350</td>\n",
       "    </tr>\n",
       "    <tr>\n",
       "      <th>1336</th>\n",
       "      <td>21</td>\n",
       "      <td>25.800</td>\n",
       "      <td>0</td>\n",
       "      <td>2007.94500</td>\n",
       "    </tr>\n",
       "    <tr>\n",
       "      <th>1337</th>\n",
       "      <td>61</td>\n",
       "      <td>29.070</td>\n",
       "      <td>0</td>\n",
       "      <td>29141.36030</td>\n",
       "    </tr>\n",
       "  </tbody>\n",
       "</table>\n",
       "<p>1338 rows × 4 columns</p>\n",
       "</div>"
      ],
      "text/plain": [
       "      age  credit-rating  children  loan-approval\n",
       "0      19         27.900         0    16884.92400\n",
       "1      18         42.130         1     1725.55230\n",
       "2      28         33.000         3     4449.46200\n",
       "3      33         22.705         0    21984.47061\n",
       "4      32         28.880         0     3866.85520\n",
       "...   ...            ...       ...            ...\n",
       "1333   50         30.970         3    10600.54830\n",
       "1334   18         31.920         0     2205.98080\n",
       "1335   18         36.850         0     1629.83350\n",
       "1336   21         25.800         0     2007.94500\n",
       "1337   61         29.070         0    29141.36030\n",
       "\n",
       "[1338 rows x 4 columns]"
      ]
     },
     "execution_count": 3,
     "metadata": {},
     "output_type": "execute_result"
    }
   ],
   "source": [
    "df = pd.read_csv(\"https://raw.githubusercontent.com/mona-patra/FDP-5days/main/Day%202/loan-approval-dataset.csv\")\n",
    "df"
   ]
  },
  {
   "cell_type": "markdown",
   "id": "c11a7ada",
   "metadata": {},
   "source": [
    "# Step 3: Understanding the dataset, finding shape of the dataset, info on the dataset, correlation among the variables etc."
   ]
  },
  {
   "cell_type": "code",
   "execution_count": 4,
   "id": "2aabc16c",
   "metadata": {},
   "outputs": [
    {
     "data": {
      "text/html": [
       "<div>\n",
       "<style scoped>\n",
       "    .dataframe tbody tr th:only-of-type {\n",
       "        vertical-align: middle;\n",
       "    }\n",
       "\n",
       "    .dataframe tbody tr th {\n",
       "        vertical-align: top;\n",
       "    }\n",
       "\n",
       "    .dataframe thead th {\n",
       "        text-align: right;\n",
       "    }\n",
       "</style>\n",
       "<table border=\"1\" class=\"dataframe\">\n",
       "  <thead>\n",
       "    <tr style=\"text-align: right;\">\n",
       "      <th></th>\n",
       "      <th>age</th>\n",
       "      <th>credit-rating</th>\n",
       "      <th>children</th>\n",
       "      <th>loan-approval</th>\n",
       "    </tr>\n",
       "  </thead>\n",
       "  <tbody>\n",
       "    <tr>\n",
       "      <th>0</th>\n",
       "      <td>19</td>\n",
       "      <td>27.900</td>\n",
       "      <td>0</td>\n",
       "      <td>16884.92400</td>\n",
       "    </tr>\n",
       "    <tr>\n",
       "      <th>1</th>\n",
       "      <td>18</td>\n",
       "      <td>42.130</td>\n",
       "      <td>1</td>\n",
       "      <td>1725.55230</td>\n",
       "    </tr>\n",
       "    <tr>\n",
       "      <th>2</th>\n",
       "      <td>28</td>\n",
       "      <td>33.000</td>\n",
       "      <td>3</td>\n",
       "      <td>4449.46200</td>\n",
       "    </tr>\n",
       "    <tr>\n",
       "      <th>3</th>\n",
       "      <td>33</td>\n",
       "      <td>22.705</td>\n",
       "      <td>0</td>\n",
       "      <td>21984.47061</td>\n",
       "    </tr>\n",
       "    <tr>\n",
       "      <th>4</th>\n",
       "      <td>32</td>\n",
       "      <td>28.880</td>\n",
       "      <td>0</td>\n",
       "      <td>3866.85520</td>\n",
       "    </tr>\n",
       "  </tbody>\n",
       "</table>\n",
       "</div>"
      ],
      "text/plain": [
       "   age  credit-rating  children  loan-approval\n",
       "0   19         27.900         0    16884.92400\n",
       "1   18         42.130         1     1725.55230\n",
       "2   28         33.000         3     4449.46200\n",
       "3   33         22.705         0    21984.47061\n",
       "4   32         28.880         0     3866.85520"
      ]
     },
     "execution_count": 4,
     "metadata": {},
     "output_type": "execute_result"
    }
   ],
   "source": [
    "df.head()"
   ]
  },
  {
   "cell_type": "code",
   "execution_count": 5,
   "id": "2070a14c",
   "metadata": {},
   "outputs": [
    {
     "data": {
      "text/plain": [
       "Index(['age', 'credit-rating', 'children', 'loan-approval'], dtype='object')"
      ]
     },
     "execution_count": 5,
     "metadata": {},
     "output_type": "execute_result"
    }
   ],
   "source": [
    "df.columns"
   ]
  },
  {
   "cell_type": "code",
   "execution_count": 6,
   "id": "ca883870",
   "metadata": {},
   "outputs": [
    {
     "data": {
      "text/plain": [
       "(1338, 4)"
      ]
     },
     "execution_count": 6,
     "metadata": {},
     "output_type": "execute_result"
    }
   ],
   "source": [
    "df.shape"
   ]
  },
  {
   "cell_type": "code",
   "execution_count": 7,
   "id": "6468f246",
   "metadata": {},
   "outputs": [
    {
     "name": "stdout",
     "output_type": "stream",
     "text": [
      "<class 'pandas.core.frame.DataFrame'>\n",
      "RangeIndex: 1338 entries, 0 to 1337\n",
      "Data columns (total 4 columns):\n",
      " #   Column         Non-Null Count  Dtype  \n",
      "---  ------         --------------  -----  \n",
      " 0   age            1338 non-null   int64  \n",
      " 1   credit-rating  1338 non-null   float64\n",
      " 2   children       1338 non-null   int64  \n",
      " 3   loan-approval  1338 non-null   float64\n",
      "dtypes: float64(2), int64(2)\n",
      "memory usage: 41.9 KB\n"
     ]
    }
   ],
   "source": [
    "df.info()"
   ]
  },
  {
   "cell_type": "code",
   "execution_count": 8,
   "id": "0d2becc2",
   "metadata": {},
   "outputs": [
    {
     "data": {
      "text/html": [
       "<div>\n",
       "<style scoped>\n",
       "    .dataframe tbody tr th:only-of-type {\n",
       "        vertical-align: middle;\n",
       "    }\n",
       "\n",
       "    .dataframe tbody tr th {\n",
       "        vertical-align: top;\n",
       "    }\n",
       "\n",
       "    .dataframe thead th {\n",
       "        text-align: right;\n",
       "    }\n",
       "</style>\n",
       "<table border=\"1\" class=\"dataframe\">\n",
       "  <thead>\n",
       "    <tr style=\"text-align: right;\">\n",
       "      <th></th>\n",
       "      <th>age</th>\n",
       "      <th>credit-rating</th>\n",
       "      <th>children</th>\n",
       "      <th>loan-approval</th>\n",
       "    </tr>\n",
       "  </thead>\n",
       "  <tbody>\n",
       "    <tr>\n",
       "      <th>count</th>\n",
       "      <td>1338.000000</td>\n",
       "      <td>1338.000000</td>\n",
       "      <td>1338.000000</td>\n",
       "      <td>1338.000000</td>\n",
       "    </tr>\n",
       "    <tr>\n",
       "      <th>mean</th>\n",
       "      <td>39.207025</td>\n",
       "      <td>30.669645</td>\n",
       "      <td>1.094918</td>\n",
       "      <td>13270.422265</td>\n",
       "    </tr>\n",
       "    <tr>\n",
       "      <th>std</th>\n",
       "      <td>14.049960</td>\n",
       "      <td>6.105650</td>\n",
       "      <td>1.205493</td>\n",
       "      <td>12110.011237</td>\n",
       "    </tr>\n",
       "    <tr>\n",
       "      <th>min</th>\n",
       "      <td>18.000000</td>\n",
       "      <td>15.960000</td>\n",
       "      <td>0.000000</td>\n",
       "      <td>1121.873900</td>\n",
       "    </tr>\n",
       "    <tr>\n",
       "      <th>25%</th>\n",
       "      <td>27.000000</td>\n",
       "      <td>26.296250</td>\n",
       "      <td>0.000000</td>\n",
       "      <td>4740.287150</td>\n",
       "    </tr>\n",
       "    <tr>\n",
       "      <th>50%</th>\n",
       "      <td>39.000000</td>\n",
       "      <td>30.400000</td>\n",
       "      <td>1.000000</td>\n",
       "      <td>9382.033000</td>\n",
       "    </tr>\n",
       "    <tr>\n",
       "      <th>75%</th>\n",
       "      <td>51.000000</td>\n",
       "      <td>34.700000</td>\n",
       "      <td>2.000000</td>\n",
       "      <td>16639.912515</td>\n",
       "    </tr>\n",
       "    <tr>\n",
       "      <th>max</th>\n",
       "      <td>64.000000</td>\n",
       "      <td>53.130000</td>\n",
       "      <td>5.000000</td>\n",
       "      <td>63770.428010</td>\n",
       "    </tr>\n",
       "  </tbody>\n",
       "</table>\n",
       "</div>"
      ],
      "text/plain": [
       "               age  credit-rating     children  loan-approval\n",
       "count  1338.000000    1338.000000  1338.000000    1338.000000\n",
       "mean     39.207025      30.669645     1.094918   13270.422265\n",
       "std      14.049960       6.105650     1.205493   12110.011237\n",
       "min      18.000000      15.960000     0.000000    1121.873900\n",
       "25%      27.000000      26.296250     0.000000    4740.287150\n",
       "50%      39.000000      30.400000     1.000000    9382.033000\n",
       "75%      51.000000      34.700000     2.000000   16639.912515\n",
       "max      64.000000      53.130000     5.000000   63770.428010"
      ]
     },
     "execution_count": 8,
     "metadata": {},
     "output_type": "execute_result"
    }
   ],
   "source": [
    "df.describe()"
   ]
  },
  {
   "cell_type": "code",
   "execution_count": 9,
   "id": "65cc6612",
   "metadata": {},
   "outputs": [
    {
     "data": {
      "text/html": [
       "<style  type=\"text/css\" >\n",
       "#T_93023_row0_col0,#T_93023_row1_col1,#T_93023_row2_col2,#T_93023_row3_col3{\n",
       "            background-color:  #f0f921;\n",
       "            color:  #000000;\n",
       "        }#T_93023_row0_col1{\n",
       "            background-color:  #3f049c;\n",
       "            color:  #f1f1f1;\n",
       "        }#T_93023_row0_col2{\n",
       "            background-color:  #20068f;\n",
       "            color:  #f1f1f1;\n",
       "        }#T_93023_row0_col3{\n",
       "            background-color:  #7d03a8;\n",
       "            color:  #f1f1f1;\n",
       "        }#T_93023_row1_col0{\n",
       "            background-color:  #330597;\n",
       "            color:  #f1f1f1;\n",
       "        }#T_93023_row1_col2,#T_93023_row2_col0,#T_93023_row2_col1,#T_93023_row2_col3{\n",
       "            background-color:  #0d0887;\n",
       "            color:  #f1f1f1;\n",
       "        }#T_93023_row1_col3{\n",
       "            background-color:  #5102a3;\n",
       "            color:  #f1f1f1;\n",
       "        }#T_93023_row3_col0{\n",
       "            background-color:  #8405a7;\n",
       "            color:  #f1f1f1;\n",
       "        }#T_93023_row3_col1{\n",
       "            background-color:  #6400a7;\n",
       "            color:  #f1f1f1;\n",
       "        }#T_93023_row3_col2{\n",
       "            background-color:  #2e0595;\n",
       "            color:  #f1f1f1;\n",
       "        }</style><table id=\"T_93023_\" ><thead>    <tr>        <th class=\"blank level0\" ></th>        <th class=\"col_heading level0 col0\" >age</th>        <th class=\"col_heading level0 col1\" >credit-rating</th>        <th class=\"col_heading level0 col2\" >children</th>        <th class=\"col_heading level0 col3\" >loan-approval</th>    </tr></thead><tbody>\n",
       "                <tr>\n",
       "                        <th id=\"T_93023_level0_row0\" class=\"row_heading level0 row0\" >age</th>\n",
       "                        <td id=\"T_93023_row0_col0\" class=\"data row0 col0\" >1.000000</td>\n",
       "                        <td id=\"T_93023_row0_col1\" class=\"data row0 col1\" >0.107593</td>\n",
       "                        <td id=\"T_93023_row0_col2\" class=\"data row0 col2\" >0.042469</td>\n",
       "                        <td id=\"T_93023_row0_col3\" class=\"data row0 col3\" >0.299008</td>\n",
       "            </tr>\n",
       "            <tr>\n",
       "                        <th id=\"T_93023_level0_row1\" class=\"row_heading level0 row1\" >credit-rating</th>\n",
       "                        <td id=\"T_93023_row1_col0\" class=\"data row1 col0\" >0.107593</td>\n",
       "                        <td id=\"T_93023_row1_col1\" class=\"data row1 col1\" >1.000000</td>\n",
       "                        <td id=\"T_93023_row1_col2\" class=\"data row1 col2\" >0.012663</td>\n",
       "                        <td id=\"T_93023_row1_col3\" class=\"data row1 col3\" >0.197122</td>\n",
       "            </tr>\n",
       "            <tr>\n",
       "                        <th id=\"T_93023_level0_row2\" class=\"row_heading level0 row2\" >children</th>\n",
       "                        <td id=\"T_93023_row2_col0\" class=\"data row2 col0\" >0.042469</td>\n",
       "                        <td id=\"T_93023_row2_col1\" class=\"data row2 col1\" >0.012663</td>\n",
       "                        <td id=\"T_93023_row2_col2\" class=\"data row2 col2\" >1.000000</td>\n",
       "                        <td id=\"T_93023_row2_col3\" class=\"data row2 col3\" >0.067998</td>\n",
       "            </tr>\n",
       "            <tr>\n",
       "                        <th id=\"T_93023_level0_row3\" class=\"row_heading level0 row3\" >loan-approval</th>\n",
       "                        <td id=\"T_93023_row3_col0\" class=\"data row3 col0\" >0.299008</td>\n",
       "                        <td id=\"T_93023_row3_col1\" class=\"data row3 col1\" >0.197122</td>\n",
       "                        <td id=\"T_93023_row3_col2\" class=\"data row3 col2\" >0.067998</td>\n",
       "                        <td id=\"T_93023_row3_col3\" class=\"data row3 col3\" >1.000000</td>\n",
       "            </tr>\n",
       "    </tbody></table>"
      ],
      "text/plain": [
       "<pandas.io.formats.style.Styler at 0x21e7fcfca48>"
      ]
     },
     "execution_count": 9,
     "metadata": {},
     "output_type": "execute_result"
    }
   ],
   "source": [
    "corr = df.corr()\n",
    "corr.style.background_gradient(cmap='plasma')"
   ]
  },
  {
   "cell_type": "code",
   "execution_count": 10,
   "id": "4b624d23",
   "metadata": {},
   "outputs": [
    {
     "data": {
      "text/plain": [
       "<AxesSubplot:>"
      ]
     },
     "execution_count": 10,
     "metadata": {},
     "output_type": "execute_result"
    },
    {
     "data": {
      "image/png": "[encoded data removed]",
      "text/plain": [
       "<Figure size 504x360 with 2 Axes>"
      ]
     },
     "metadata": {
      "needs_background": "light"
     },
     "output_type": "display_data"
    }
   ],
   "source": [
    "import seaborn as sns\n",
    "plt.figure(figsize = (7,5))\n",
    "sns.heatmap(corr,annot = True,fmt='.2%')"
   ]
  },
  {
   "cell_type": "code",
   "execution_count": null,
   "id": "1daea18c",
   "metadata": {},
   "outputs": [],
   "source": []
  },
  {
   "cell_type": "markdown",
   "id": "c7f93235",
   "metadata": {},
   "source": [
    "# Step 4: Defining the feature and the target variable, X and y, where"
   ]
  },
  {
   "cell_type": "code",
   "execution_count": 11,
   "id": "a7ba6ccf",
   "metadata": {},
   "outputs": [],
   "source": [
    "X = df[['age','credit-rating','children']]\n",
    "y = df['loan-approval']"
   ]
  },
  {
   "cell_type": "code",
   "execution_count": 12,
   "id": "98aa4e87",
   "metadata": {},
   "outputs": [
    {
     "data": {
      "text/html": [
       "<div>\n",
       "<style scoped>\n",
       "    .dataframe tbody tr th:only-of-type {\n",
       "        vertical-align: middle;\n",
       "    }\n",
       "\n",
       "    .dataframe tbody tr th {\n",
       "        vertical-align: top;\n",
       "    }\n",
       "\n",
       "    .dataframe thead th {\n",
       "        text-align: right;\n",
       "    }\n",
       "</style>\n",
       "<table border=\"1\" class=\"dataframe\">\n",
       "  <thead>\n",
       "    <tr style=\"text-align: right;\">\n",
       "      <th></th>\n",
       "      <th>age</th>\n",
       "      <th>credit-rating</th>\n",
       "      <th>children</th>\n",
       "    </tr>\n",
       "  </thead>\n",
       "  <tbody>\n",
       "    <tr>\n",
       "      <th>0</th>\n",
       "      <td>19</td>\n",
       "      <td>27.900</td>\n",
       "      <td>0</td>\n",
       "    </tr>\n",
       "    <tr>\n",
       "      <th>1</th>\n",
       "      <td>18</td>\n",
       "      <td>42.130</td>\n",
       "      <td>1</td>\n",
       "    </tr>\n",
       "    <tr>\n",
       "      <th>2</th>\n",
       "      <td>28</td>\n",
       "      <td>33.000</td>\n",
       "      <td>3</td>\n",
       "    </tr>\n",
       "    <tr>\n",
       "      <th>3</th>\n",
       "      <td>33</td>\n",
       "      <td>22.705</td>\n",
       "      <td>0</td>\n",
       "    </tr>\n",
       "    <tr>\n",
       "      <th>4</th>\n",
       "      <td>32</td>\n",
       "      <td>28.880</td>\n",
       "      <td>0</td>\n",
       "    </tr>\n",
       "  </tbody>\n",
       "</table>\n",
       "</div>"
      ],
      "text/plain": [
       "   age  credit-rating  children\n",
       "0   19         27.900         0\n",
       "1   18         42.130         1\n",
       "2   28         33.000         3\n",
       "3   33         22.705         0\n",
       "4   32         28.880         0"
      ]
     },
     "execution_count": 12,
     "metadata": {},
     "output_type": "execute_result"
    }
   ],
   "source": [
    "X.head()"
   ]
  },
  {
   "cell_type": "code",
   "execution_count": 13,
   "id": "9913e36f",
   "metadata": {},
   "outputs": [
    {
     "data": {
      "text/plain": [
       "0    16884.92400\n",
       "1     1725.55230\n",
       "2     4449.46200\n",
       "3    21984.47061\n",
       "4     3866.85520\n",
       "Name: loan-approval, dtype: float64"
      ]
     },
     "execution_count": 13,
     "metadata": {},
     "output_type": "execute_result"
    }
   ],
   "source": [
    "y.head()"
   ]
  },
  {
   "cell_type": "markdown",
   "id": "eedf55ce",
   "metadata": {},
   "source": [
    "# Step 5:  Create Train and Test set"
   ]
  },
  {
   "cell_type": "code",
   "execution_count": 14,
   "id": "3f07d7e8",
   "metadata": {},
   "outputs": [],
   "source": [
    "from sklearn.model_selection import train_test_split\n",
    "X_train, X_test, y_train, y_test = train_test_split(X, y, train_size = 0.7, test_size = 0.3, random_state = 100)"
   ]
  },
  {
   "cell_type": "code",
   "execution_count": 24,
   "id": "00e3cf44",
   "metadata": {},
   "outputs": [
    {
     "name": "stdout",
     "output_type": "stream",
     "text": [
      "(1338, 3)\n",
      "(1338,)\n",
      "(936, 3)\n",
      "(402, 3)\n",
      "(936,)\n",
      "(402,)\n"
     ]
    }
   ],
   "source": [
    "# Take a look at the splittted dataset\n",
    "print(X.shape)\n",
    "print(y.shape)\n",
    "print(X_train.shape)\n",
    "print(X_test.shape)\n",
    "print(y_train.shape)\n",
    "print(y_test.shape)"
   ]
  },
  {
   "cell_type": "markdown",
   "id": "77413df3",
   "metadata": {},
   "source": [
    "# Step 6: Train your model"
   ]
  },
  {
   "cell_type": "code",
   "execution_count": 37,
   "id": "7085ffbf",
   "metadata": {},
   "outputs": [
    {
     "data": {
      "text/plain": [
       "LinearRegression()"
      ]
     },
     "execution_count": 37,
     "metadata": {},
     "output_type": "execute_result"
    }
   ],
   "source": [
    "regr = linear_model.LinearRegression()\n",
    "regr.fit(X_train,y_train)"
   ]
  },
  {
   "cell_type": "code",
   "execution_count": null,
   "id": "14b8c069",
   "metadata": {},
   "outputs": [],
   "source": []
  },
  {
   "cell_type": "code",
   "execution_count": 40,
   "id": "b2beaa0b",
   "metadata": {},
   "outputs": [
    {
     "data": {
      "text/plain": [
       "array([250.20504314, 301.42340575, 520.34313128])"
      ]
     },
     "execution_count": 40,
     "metadata": {},
     "output_type": "execute_result"
    }
   ],
   "source": [
    "regr.coef_"
   ]
  },
  {
   "cell_type": "code",
   "execution_count": 41,
   "id": "edf1702d",
   "metadata": {},
   "outputs": [
    {
     "data": {
      "text/plain": [
       "-6466.22119199591"
      ]
     },
     "execution_count": 41,
     "metadata": {},
     "output_type": "execute_result"
    }
   ],
   "source": [
    "regr.intercept_"
   ]
  },
  {
   "cell_type": "code",
   "execution_count": 42,
   "id": "c31b8cc5",
   "metadata": {},
   "outputs": [],
   "source": [
    "# Predicting y_value using teting data of X\n",
    "y_pred = regr.predict(X_test)\n",
    "\n",
    "# Creating residuals from the y_train and y_pred\n",
    "res = (y_test - y_pred)"
   ]
  },
  {
   "cell_type": "markdown",
   "id": "7b4c4b4b",
   "metadata": {},
   "source": [
    "# Step 7: Evaluate the model"
   ]
  },
  {
   "cell_type": "code",
   "execution_count": 43,
   "id": "2a7caf68",
   "metadata": {},
   "outputs": [],
   "source": [
    "import warnings\n",
    "warnings.filterwarnings('ignore')"
   ]
  },
  {
   "cell_type": "code",
   "execution_count": 44,
   "id": "59a06d5f",
   "metadata": {},
   "outputs": [
    {
     "data": {
      "image/png": "[encoded data removed]",
      "text/plain": [
       "<Figure size 432x288 with 1 Axes>"
      ]
     },
     "metadata": {
      "needs_background": "light"
     },
     "output_type": "display_data"
    }
   ],
   "source": [
    "import seaborn as sns\n",
    "fig = plt.figure()\n",
    "sns.distplot(res, bins = 15)\n",
    "fig.suptitle('Error Terms', fontsize = 15)                \n",
    "plt.xlabel('y_train - y_train_pred', fontsize = 15)         # X-label\n",
    "plt.show()"
   ]
  },
  {
   "cell_type": "code",
   "execution_count": 45,
   "id": "a3e8d916",
   "metadata": {},
   "outputs": [
    {
     "data": {
      "text/plain": [
       "0.10995726547136453"
      ]
     },
     "execution_count": 45,
     "metadata": {},
     "output_type": "execute_result"
    }
   ],
   "source": [
    "# Checking the R-squared value\n",
    "r_squared = r2_score(y_test, y_pred)\n",
    "r_squared"
   ]
  },
  {
   "cell_type": "code",
   "execution_count": 46,
   "id": "048b42a3",
   "metadata": {},
   "outputs": [
    {
     "name": "stdout",
     "output_type": "stream",
     "text": [
      "Mean squared error: 129232148.96\n",
      "Mean Absolute Error: 8899.63\n"
     ]
    }
   ],
   "source": [
    "# Mean square error\n",
    "print('Mean squared error: %.2f'% mean_squared_error(y_test, y_pred))\n",
    "# The mean absolute error\n",
    "print('Mean Absolute Error: %.2f'% mean_absolute_error(y_test, y_pred))"
   ]
  },
  {
   "cell_type": "code",
   "execution_count": null,
   "id": "69b29e01",
   "metadata": {},
   "outputs": [],
   "source": []
  }
 ],
 "metadata": {
  "kernelspec": {
   "display_name": "Python 3 (ipykernel)",
   "language": "python",
   "name": "python3"
  },
  "language_info": {
   "codemirror_mode": {
    "name": "ipython",
    "version": 3
   },
   "file_extension": ".py",
   "mimetype": "text/x-python",
   "name": "python",
   "nbconvert_exporter": "python",
   "pygments_lexer": "ipython3",
   "version": "3.7.8"
  }
 },
 "nbformat": 4,
 "nbformat_minor": 5
}
